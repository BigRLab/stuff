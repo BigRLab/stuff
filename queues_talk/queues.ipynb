{
 "cells": [
  {
   "cell_type": "markdown",
   "metadata": {},
   "source": [
    "# TensorFlow queues and input pipelines"
   ]
  },
  {
   "cell_type": "markdown",
   "metadata": {},
   "source": [
    "## Initialization"
   ]
  },
  {
   "cell_type": "code",
   "execution_count": 20,
   "metadata": {
    "collapsed": false
   },
   "outputs": [],
   "source": [
    "import numpy as np\n",
    "import tensorflow as tf\n",
    "import threading\n",
    "import time\n",
    "\n",
    "import os\n",
    "from cStringIO import StringIO\n",
    "import numpy as np\n",
    "from functools import partial\n",
    "\n",
    "from IPython.display import clear_output, Image, display, HTML\n",
    "\n",
    "import tensorflow as tf\n",
    "\n",
    "def strip_consts(graph_def, max_const_size=32):\n",
    "    \"\"\"Strip large constant values from graph_def.\"\"\"\n",
    "    strip_def = tf.GraphDef()\n",
    "    for n0 in graph_def.node:\n",
    "        n = strip_def.node.add() \n",
    "        n.MergeFrom(n0)\n",
    "        if n.op == 'Const':\n",
    "            tensor = n.attr['value'].tensor\n",
    "            size = len(tensor.tensor_content)\n",
    "            if size > max_const_size:\n",
    "                tensor.tensor_content = \"<stripped %d bytes>\"%size\n",
    "    return strip_def\n",
    "  \n",
    "def rename_nodes(graph_def, rename_func):\n",
    "    res_def = tf.GraphDef()\n",
    "    for n0 in graph_def.node:\n",
    "        n = res_def.node.add() \n",
    "        n.MergeFrom(n0)\n",
    "        n.name = rename_func(n.name)\n",
    "        for i, s in enumerate(n.input):\n",
    "            n.input[i] = rename_func(s) if s[0]!='^' else '^'+rename_func(s[1:])\n",
    "    return res_def\n",
    "def show_graph(graph_def, max_const_size=32):\n",
    "    \"\"\"Visualize TensorFlow graph.\"\"\"\n",
    "    if hasattr(graph_def, 'as_graph_def'):\n",
    "        graph_def = graph_def.as_graph_def()\n",
    "    strip_def = strip_consts(graph_def, max_const_size=max_const_size)\n",
    "    code = \"\"\"\n",
    "        <script>\n",
    "          function load() {{\n",
    "            document.getElementById(\"{id}\").pbtxt = {data};\n",
    "          }}\n",
    "        </script>\n",
    "        <link rel=\"import\" href=\"https://tensorboard.appspot.com/tf-graph-basic.build.html\" onload=load()>\n",
    "        <div style=\"height:600px\">\n",
    "          <tf-graph-basic id=\"{id}\"></tf-graph-basic>\n",
    "        </div>\n",
    "    \"\"\".format(data=repr(str(strip_def)), id='graph'+str(np.random.rand()))\n",
    "  \n",
    "    iframe = \"\"\"\n",
    "        <iframe seamless style=\"width:1200px;height:620px;border:0\" srcdoc=\"{}\"></iframe>\n",
    "    \"\"\".format(code.replace('\"', '&quot;'))\n",
    "    display(HTML(iframe))\n",
    "    \n",
    "def create_session():\n",
    "    sess = tf.InteractiveSession(config=tf.ConfigProto(operation_timeout_in_ms=3000))\n",
    "    return sess\n"
   ]
  },
  {
   "cell_type": "code",
   "execution_count": 36,
   "metadata": {
    "collapsed": true
   },
   "outputs": [],
   "source": [
    "tf.reset_default_graph()\n",
    "a = tf.constant(1)\n",
    "b = tf.constant(2)\n",
    "c = a+b\n",
    "d = c*a\n",
    "e = d-c"
   ]
  },
  {
   "cell_type": "code",
   "execution_count": 37,
   "metadata": {
    "collapsed": false,
    "scrolled": true
   },
   "outputs": [
    {
     "data": {
      "text/html": [
       "\n",
       "        <iframe seamless style=\"width:1200px;height:620px;border:0\" srcdoc=\"\n",
       "        <script>\n",
       "          function load() {\n",
       "            document.getElementById(&quot;graph0.373265570861&quot;).pbtxt = 'node {\\n  name: &quot;Const&quot;\\n  op: &quot;Const&quot;\\n  attr {\\n    key: &quot;dtype&quot;\\n    value {\\n      type: DT_INT32\\n    }\\n  }\\n  attr {\\n    key: &quot;value&quot;\\n    value {\\n      tensor {\\n        dtype: DT_INT32\\n        tensor_shape {\\n        }\\n        int_val: 1\\n      }\\n    }\\n  }\\n}\\nnode {\\n  name: &quot;Const_1&quot;\\n  op: &quot;Const&quot;\\n  attr {\\n    key: &quot;dtype&quot;\\n    value {\\n      type: DT_INT32\\n    }\\n  }\\n  attr {\\n    key: &quot;value&quot;\\n    value {\\n      tensor {\\n        dtype: DT_INT32\\n        tensor_shape {\\n        }\\n        int_val: 2\\n      }\\n    }\\n  }\\n}\\nnode {\\n  name: &quot;add&quot;\\n  op: &quot;Add&quot;\\n  input: &quot;Const&quot;\\n  input: &quot;Const_1&quot;\\n  attr {\\n    key: &quot;T&quot;\\n    value {\\n      type: DT_INT32\\n    }\\n  }\\n}\\nnode {\\n  name: &quot;mul&quot;\\n  op: &quot;Mul&quot;\\n  input: &quot;add&quot;\\n  input: &quot;Const&quot;\\n  attr {\\n    key: &quot;T&quot;\\n    value {\\n      type: DT_INT32\\n    }\\n  }\\n}\\nnode {\\n  name: &quot;sub&quot;\\n  op: &quot;Sub&quot;\\n  input: &quot;mul&quot;\\n  input: &quot;add&quot;\\n  attr {\\n    key: &quot;T&quot;\\n    value {\\n      type: DT_INT32\\n    }\\n  }\\n}\\n';\n",
       "          }\n",
       "        </script>\n",
       "        <link rel=&quot;import&quot; href=&quot;https://tensorboard.appspot.com/tf-graph-basic.build.html&quot; onload=load()>\n",
       "        <div style=&quot;height:600px&quot;>\n",
       "          <tf-graph-basic id=&quot;graph0.373265570861&quot;></tf-graph-basic>\n",
       "        </div>\n",
       "    \"></iframe>\n",
       "    "
      ],
      "text/plain": [
       "<IPython.core.display.HTML object>"
      ]
     },
     "metadata": {},
     "output_type": "display_data"
    }
   ],
   "source": [
    "show_graph(tf.get_default_graph().as_graph_def())"
   ]
  },
  {
   "cell_type": "markdown",
   "metadata": {},
   "source": [
    "# Simple queue"
   ]
  },
  {
   "cell_type": "code",
   "execution_count": 24,
   "metadata": {
    "collapsed": false
   },
   "outputs": [
    {
     "name": "stdout",
     "output_type": "stream",
     "text": [
      "Queue size is now: 1\n",
      "Queue size is now: 2\n",
      "Queue size is now: 3\n",
      "Queue size is now: 4\n",
      "Queue size is now: 5\n",
      "Queue size is now: 6\n",
      "Queue size is now: 7\n",
      "Queue size is now: 8\n",
      "Queue size is now: 9\n",
      "Queue size is now: 10\n"
     ]
    },
    {
     "name": "stderr",
     "output_type": "stream",
     "text": [
      "Exception AssertionError: AssertionError() in <bound method InteractiveSession.__del__ of <tensorflow.python.client.session.InteractiveSession object at 0x1103fbbd0>> ignored\n"
     ]
    }
   ],
   "source": [
    "tf.reset_default_graph()\n",
    "q = tf.FIFOQueue(capacity=20, dtypes=[tf.int32])\n",
    "enqueue_placeholder = tf.placeholder(tf.int32)\n",
    "enqueue_op = q.enqueue(enqueue_placeholder)\n",
    "sess = create_session()\n",
    "for i in range(10):\n",
    "    sess.run(enqueue_op, feed_dict={enqueue_placeholder:i})\n",
    "    print \"Queue size is now: \"+str(sess.run(q.size()))\n",
    "sess.run(q.close())"
   ]
  },
  {
   "cell_type": "code",
   "execution_count": 26,
   "metadata": {
    "collapsed": false
   },
   "outputs": [
    {
     "name": "stdout",
     "output_type": "stream",
     "text": [
      "0\n",
      "1\n",
      "2\n",
      "3\n",
      "4\n",
      "5\n",
      "6\n",
      "7\n",
      "8\n",
      "9\n",
      "Done\n"
     ]
    }
   ],
   "source": [
    "try:\n",
    "    for i in range(20):\n",
    "        print sess.run(q.dequeue())\n",
    "except tf.errors.OutOfRangeError:\n",
    "    print \"Done\""
   ]
  },
  {
   "cell_type": "markdown",
   "metadata": {},
   "source": [
    "# Simple queue with multiple enqueues in parallel"
   ]
  },
  {
   "cell_type": "code",
   "execution_count": 23,
   "metadata": {
    "collapsed": false
   },
   "outputs": [
    {
     "name": "stderr",
     "output_type": "stream",
     "text": [
      "Exception AssertionError: AssertionError() in <bound method InteractiveSession.__del__ of <tensorflow.python.client.session.InteractiveSession object at 0x1103f3c10>> ignored\n"
     ]
    },
    {
     "name": "stdout",
     "output_type": "stream",
     "text": [
      "0\n",
      "4\n",
      "10\n"
     ]
    }
   ],
   "source": [
    "tf.reset_default_graph()\n",
    "random_number = tf.random_uniform(shape=())\n",
    "q = tf.FIFOQueue(capacity=20, dtypes=[tf.float32])\n",
    "enqueue_op = q.enqueue(random_number)\n",
    "\n",
    "sess = create_session()\n",
    "print sess.run(q.size())\n",
    "def run():\n",
    "  for i in range(5):\n",
    "    sess.run(enqueue_op)\n",
    "\n",
    "threads = [threading.Thread(target=run, args=()) for i in range(2)]\n",
    "[t.start() for t in threads]\n",
    "print sess.run(q.size())\n",
    "time.sleep(0.5)\n",
    "print sess.run(q.size())\n"
   ]
  },
  {
   "cell_type": "markdown",
   "metadata": {},
   "source": [
    "# Setting up range_input_producer"
   ]
  },
  {
   "cell_type": "code",
   "execution_count": 26,
   "metadata": {
    "collapsed": true
   },
   "outputs": [],
   "source": [
    "inn = tf.train.range_input_producer(limit=10, num_epochs=1, shuffle=False)"
   ]
  },
  {
   "cell_type": "code",
   "execution_count": 29,
   "metadata": {
    "collapsed": false
   },
   "outputs": [
    {
     "data": {
      "text/html": [
       "\n",
       "        <iframe seamless style=\"width:1200px;height:620px;border:0\" srcdoc=\"\n",
       "        <script>\n",
       "          function load() {\n",
       "            document.getElementById(&quot;graph0.421213917726&quot;).pbtxt = 'node {\\n  name: &quot;input_producer/range/start&quot;\\n  op: &quot;Const&quot;\\n  attr {\\n    key: &quot;dtype&quot;\\n    value {\\n      type: DT_INT32\\n    }\\n  }\\n  attr {\\n    key: &quot;value&quot;\\n    value {\\n      tensor {\\n        dtype: DT_INT32\\n        tensor_shape {\\n        }\\n        int_val: 0\\n      }\\n    }\\n  }\\n}\\nnode {\\n  name: &quot;input_producer/range/limit&quot;\\n  op: &quot;Const&quot;\\n  attr {\\n    key: &quot;dtype&quot;\\n    value {\\n      type: DT_INT32\\n    }\\n  }\\n  attr {\\n    key: &quot;value&quot;\\n    value {\\n      tensor {\\n        dtype: DT_INT32\\n        tensor_shape {\\n        }\\n        int_val: 10\\n      }\\n    }\\n  }\\n}\\nnode {\\n  name: &quot;input_producer/range/delta&quot;\\n  op: &quot;Const&quot;\\n  attr {\\n    key: &quot;dtype&quot;\\n    value {\\n      type: DT_INT32\\n    }\\n  }\\n  attr {\\n    key: &quot;value&quot;\\n    value {\\n      tensor {\\n        dtype: DT_INT32\\n        tensor_shape {\\n        }\\n        int_val: 1\\n      }\\n    }\\n  }\\n}\\nnode {\\n  name: &quot;input_producer/range&quot;\\n  op: &quot;Range&quot;\\n  input: &quot;input_producer/range/start&quot;\\n  input: &quot;input_producer/range/limit&quot;\\n  input: &quot;input_producer/range/delta&quot;\\n}\\nnode {\\n  name: &quot;input_producer/fraction_of_32_full/limit_epochs/Const&quot;\\n  op: &quot;Const&quot;\\n  attr {\\n    key: &quot;dtype&quot;\\n    value {\\n      type: DT_INT64\\n    }\\n  }\\n  attr {\\n    key: &quot;value&quot;\\n    value {\\n      tensor {\\n        dtype: DT_INT64\\n        tensor_shape {\\n        }\\n        int64_val: 0\\n      }\\n    }\\n  }\\n}\\nnode {\\n  name: &quot;input_producer/fraction_of_32_full/limit_epochs/epochs&quot;\\n  op: &quot;Variable&quot;\\n  attr {\\n    key: &quot;container&quot;\\n    value {\\n      s: &quot;&quot;\\n    }\\n  }\\n  attr {\\n    key: &quot;dtype&quot;\\n    value {\\n      type: DT_INT64\\n    }\\n  }\\n  attr {\\n    key: &quot;shape&quot;\\n    value {\\n      shape {\\n      }\\n    }\\n  }\\n  attr {\\n    key: &quot;shared_name&quot;\\n    value {\\n      s: &quot;&quot;\\n    }\\n  }\\n}\\nnode {\\n  name: &quot;input_producer/fraction_of_32_full/limit_epochs/epochs/Assign&quot;\\n  op: &quot;Assign&quot;\\n  input: &quot;input_producer/fraction_of_32_full/limit_epochs/epochs&quot;\\n  input: &quot;input_producer/fraction_of_32_full/limit_epochs/Const&quot;\\n  attr {\\n    key: &quot;T&quot;\\n    value {\\n      type: DT_INT64\\n    }\\n  }\\n  attr {\\n    key: &quot;_class&quot;\\n    value {\\n      list {\\n        s: &quot;loc:@input_producer/fraction_of_32_full/limit_epochs/epochs&quot;\\n      }\\n    }\\n  }\\n  attr {\\n    key: &quot;use_locking&quot;\\n    value {\\n      b: true\\n    }\\n  }\\n  attr {\\n    key: &quot;validate_shape&quot;\\n    value {\\n      b: true\\n    }\\n  }\\n}\\nnode {\\n  name: &quot;input_producer/fraction_of_32_full/limit_epochs/epochs/read&quot;\\n  op: &quot;Identity&quot;\\n  input: &quot;input_producer/fraction_of_32_full/limit_epochs/epochs&quot;\\n  attr {\\n    key: &quot;T&quot;\\n    value {\\n      type: DT_INT64\\n    }\\n  }\\n  attr {\\n    key: &quot;_class&quot;\\n    value {\\n      list {\\n        s: &quot;loc:@input_producer/fraction_of_32_full/limit_epochs/epochs&quot;\\n      }\\n    }\\n  }\\n}\\nnode {\\n  name: &quot;input_producer/fraction_of_32_full/limit_epochs/CountUpTo&quot;\\n  op: &quot;CountUpTo&quot;\\n  input: &quot;input_producer/fraction_of_32_full/limit_epochs/epochs&quot;\\n  attr {\\n    key: &quot;T&quot;\\n    value {\\n      type: DT_INT64\\n    }\\n  }\\n  attr {\\n    key: &quot;_class&quot;\\n    value {\\n      list {\\n        s: &quot;loc:@input_producer/fraction_of_32_full/limit_epochs/epochs&quot;\\n      }\\n    }\\n  }\\n  attr {\\n    key: &quot;limit&quot;\\n    value {\\n      i: 1\\n    }\\n  }\\n}\\nnode {\\n  name: &quot;input_producer/fraction_of_32_full/limit_epochs&quot;\\n  op: &quot;Identity&quot;\\n  input: &quot;input_producer/range&quot;\\n  input: &quot;^input_producer/fraction_of_32_full/limit_epochs/CountUpTo&quot;\\n  attr {\\n    key: &quot;T&quot;\\n    value {\\n      type: DT_INT32\\n    }\\n  }\\n}\\nnode {\\n  name: &quot;input_producer/fraction_of_32_full/fraction_of_32_full&quot;\\n  op: &quot;FIFOQueue&quot;\\n  attr {\\n    key: &quot;capacity&quot;\\n    value {\\n      i: 32\\n    }\\n  }\\n  attr {\\n    key: &quot;component_types&quot;\\n    value {\\n      list {\\n        type: DT_INT32\\n      }\\n    }\\n  }\\n  attr {\\n    key: &quot;container&quot;\\n    value {\\n      s: &quot;&quot;\\n    }\\n  }\\n  attr {\\n    key: &quot;shapes&quot;\\n    value {\\n      list {\\n        shape {\\n        }\\n      }\\n    }\\n  }\\n  attr {\\n    key: &quot;shared_name&quot;\\n    value {\\n      s: &quot;&quot;\\n    }\\n  }\\n}\\nnode {\\n  name: &quot;input_producer/fraction_of_32_full/fraction_of_32_full_EnqueueMany&quot;\\n  op: &quot;QueueEnqueueMany&quot;\\n  input: &quot;input_producer/fraction_of_32_full/fraction_of_32_full&quot;\\n  input: &quot;input_producer/fraction_of_32_full/limit_epochs&quot;\\n  attr {\\n    key: &quot;Tcomponents&quot;\\n    value {\\n      list {\\n        type: DT_INT32\\n      }\\n    }\\n  }\\n  attr {\\n    key: &quot;_class&quot;\\n    value {\\n      list {\\n        s: &quot;loc:@input_producer/fraction_of_32_full/fraction_of_32_full&quot;\\n      }\\n    }\\n  }\\n  attr {\\n    key: &quot;timeout_ms&quot;\\n    value {\\n      i: -1\\n    }\\n  }\\n}\\nnode {\\n  name: &quot;input_producer/fraction_of_32_full/fraction_of_32_full_Close&quot;\\n  op: &quot;QueueClose&quot;\\n  input: &quot;input_producer/fraction_of_32_full/fraction_of_32_full&quot;\\n  attr {\\n    key: &quot;_class&quot;\\n    value {\\n      list {\\n        s: &quot;loc:@input_producer/fraction_of_32_full/fraction_of_32_full&quot;\\n      }\\n    }\\n  }\\n  attr {\\n    key: &quot;cancel_pending_enqueues&quot;\\n    value {\\n      b: false\\n    }\\n  }\\n}\\nnode {\\n  name: &quot;input_producer/fraction_of_32_full/fraction_of_32_full_Close_1&quot;\\n  op: &quot;QueueClose&quot;\\n  input: &quot;input_producer/fraction_of_32_full/fraction_of_32_full&quot;\\n  attr {\\n    key: &quot;_class&quot;\\n    value {\\n      list {\\n        s: &quot;loc:@input_producer/fraction_of_32_full/fraction_of_32_full&quot;\\n      }\\n    }\\n  }\\n  attr {\\n    key: &quot;cancel_pending_enqueues&quot;\\n    value {\\n      b: true\\n    }\\n  }\\n}\\nnode {\\n  name: &quot;input_producer/fraction_of_32_full/fraction_of_32_full_Size&quot;\\n  op: &quot;QueueSize&quot;\\n  input: &quot;input_producer/fraction_of_32_full/fraction_of_32_full&quot;\\n  attr {\\n    key: &quot;_class&quot;\\n    value {\\n      list {\\n        s: &quot;loc:@input_producer/fraction_of_32_full/fraction_of_32_full&quot;\\n      }\\n    }\\n  }\\n}\\nnode {\\n  name: &quot;input_producer/fraction_of_32_full/Cast&quot;\\n  op: &quot;Cast&quot;\\n  input: &quot;input_producer/fraction_of_32_full/fraction_of_32_full_Size&quot;\\n  attr {\\n    key: &quot;DstT&quot;\\n    value {\\n      type: DT_FLOAT\\n    }\\n  }\\n  attr {\\n    key: &quot;SrcT&quot;\\n    value {\\n      type: DT_INT32\\n    }\\n  }\\n}\\nnode {\\n  name: &quot;input_producer/fraction_of_32_full/mul/y&quot;\\n  op: &quot;Const&quot;\\n  attr {\\n    key: &quot;dtype&quot;\\n    value {\\n      type: DT_FLOAT\\n    }\\n  }\\n  attr {\\n    key: &quot;value&quot;\\n    value {\\n      tensor {\\n        dtype: DT_FLOAT\\n        tensor_shape {\\n        }\\n        float_val: 0.03125\\n      }\\n    }\\n  }\\n}\\nnode {\\n  name: &quot;input_producer/fraction_of_32_full/mul&quot;\\n  op: &quot;Mul&quot;\\n  input: &quot;input_producer/fraction_of_32_full/Cast&quot;\\n  input: &quot;input_producer/fraction_of_32_full/mul/y&quot;\\n  attr {\\n    key: &quot;T&quot;\\n    value {\\n      type: DT_FLOAT\\n    }\\n  }\\n}\\nnode {\\n  name: &quot;input_producer/fraction_of_32_full/ScalarSummary/tags&quot;\\n  op: &quot;Const&quot;\\n  attr {\\n    key: &quot;dtype&quot;\\n    value {\\n      type: DT_STRING\\n    }\\n  }\\n  attr {\\n    key: &quot;value&quot;\\n    value {\\n      tensor {\\n        dtype: DT_STRING\\n        tensor_shape {\\n        }\\n        string_val: &quot;queue/input_producer/fraction_of_32_full/fraction_of_32_full/input_producer/&quot;\\n      }\\n    }\\n  }\\n}\\nnode {\\n  name: &quot;input_producer/fraction_of_32_full/ScalarSummary&quot;\\n  op: &quot;ScalarSummary&quot;\\n  input: &quot;input_producer/fraction_of_32_full/ScalarSummary/tags&quot;\\n  input: &quot;input_producer/fraction_of_32_full/mul&quot;\\n  attr {\\n    key: &quot;T&quot;\\n    value {\\n      type: DT_FLOAT\\n    }\\n  }\\n}\\n';\n",
       "          }\n",
       "        </script>\n",
       "        <link rel=&quot;import&quot; href=&quot;https://tensorboard.appspot.com/tf-graph-basic.build.html&quot; onload=load()>\n",
       "        <div style=&quot;height:600px&quot;>\n",
       "          <tf-graph-basic id=&quot;graph0.421213917726&quot;></tf-graph-basic>\n",
       "        </div>\n",
       "    \"></iframe>\n",
       "    "
      ],
      "text/plain": [
       "<IPython.core.display.HTML object>"
      ]
     },
     "metadata": {},
     "output_type": "display_data"
    }
   ],
   "source": [
    "show_graph(tf.get_default_graph().as_graph_def())"
   ]
  },
  {
   "cell_type": "markdown",
   "metadata": {},
   "source": [
    "## Lookup name of size operation in GraphDef"
   ]
  },
  {
   "cell_type": "markdown",
   "metadata": {},
   "source": [
    "If you don't want to create new Node with \"op.size\", you can find name of exiting node by looking for with op=\"QueueSize\" in the graph definition, and fetching it directly. In this case, proper run call will look like this -- sess.run(\"input_producer/fraction_of_32_full/fraction_of_32_full_Size:0\")"
   ]
  },
  {
   "cell_type": "code",
   "execution_count": 30,
   "metadata": {
    "collapsed": false
   },
   "outputs": [
    {
     "data": {
      "text/plain": [
       "node {\n",
       "  name: \"input_producer/range/start\"\n",
       "  op: \"Const\"\n",
       "  attr {\n",
       "    key: \"dtype\"\n",
       "    value {\n",
       "      type: DT_INT32\n",
       "    }\n",
       "  }\n",
       "  attr {\n",
       "    key: \"value\"\n",
       "    value {\n",
       "      tensor {\n",
       "        dtype: DT_INT32\n",
       "        tensor_shape {\n",
       "        }\n",
       "        int_val: 0\n",
       "      }\n",
       "    }\n",
       "  }\n",
       "}\n",
       "node {\n",
       "  name: \"input_producer/range/limit\"\n",
       "  op: \"Const\"\n",
       "  attr {\n",
       "    key: \"dtype\"\n",
       "    value {\n",
       "      type: DT_INT32\n",
       "    }\n",
       "  }\n",
       "  attr {\n",
       "    key: \"value\"\n",
       "    value {\n",
       "      tensor {\n",
       "        dtype: DT_INT32\n",
       "        tensor_shape {\n",
       "        }\n",
       "        int_val: 10\n",
       "      }\n",
       "    }\n",
       "  }\n",
       "}\n",
       "node {\n",
       "  name: \"input_producer/range/delta\"\n",
       "  op: \"Const\"\n",
       "  attr {\n",
       "    key: \"dtype\"\n",
       "    value {\n",
       "      type: DT_INT32\n",
       "    }\n",
       "  }\n",
       "  attr {\n",
       "    key: \"value\"\n",
       "    value {\n",
       "      tensor {\n",
       "        dtype: DT_INT32\n",
       "        tensor_shape {\n",
       "        }\n",
       "        int_val: 1\n",
       "      }\n",
       "    }\n",
       "  }\n",
       "}\n",
       "node {\n",
       "  name: \"input_producer/range\"\n",
       "  op: \"Range\"\n",
       "  input: \"input_producer/range/start\"\n",
       "  input: \"input_producer/range/limit\"\n",
       "  input: \"input_producer/range/delta\"\n",
       "}\n",
       "node {\n",
       "  name: \"input_producer/fraction_of_32_full/limit_epochs/Const\"\n",
       "  op: \"Const\"\n",
       "  attr {\n",
       "    key: \"dtype\"\n",
       "    value {\n",
       "      type: DT_INT64\n",
       "    }\n",
       "  }\n",
       "  attr {\n",
       "    key: \"value\"\n",
       "    value {\n",
       "      tensor {\n",
       "        dtype: DT_INT64\n",
       "        tensor_shape {\n",
       "        }\n",
       "        int64_val: 0\n",
       "      }\n",
       "    }\n",
       "  }\n",
       "}\n",
       "node {\n",
       "  name: \"input_producer/fraction_of_32_full/limit_epochs/epochs\"\n",
       "  op: \"Variable\"\n",
       "  attr {\n",
       "    key: \"container\"\n",
       "    value {\n",
       "      s: \"\"\n",
       "    }\n",
       "  }\n",
       "  attr {\n",
       "    key: \"dtype\"\n",
       "    value {\n",
       "      type: DT_INT64\n",
       "    }\n",
       "  }\n",
       "  attr {\n",
       "    key: \"shape\"\n",
       "    value {\n",
       "      shape {\n",
       "      }\n",
       "    }\n",
       "  }\n",
       "  attr {\n",
       "    key: \"shared_name\"\n",
       "    value {\n",
       "      s: \"\"\n",
       "    }\n",
       "  }\n",
       "}\n",
       "node {\n",
       "  name: \"input_producer/fraction_of_32_full/limit_epochs/epochs/Assign\"\n",
       "  op: \"Assign\"\n",
       "  input: \"input_producer/fraction_of_32_full/limit_epochs/epochs\"\n",
       "  input: \"input_producer/fraction_of_32_full/limit_epochs/Const\"\n",
       "  attr {\n",
       "    key: \"T\"\n",
       "    value {\n",
       "      type: DT_INT64\n",
       "    }\n",
       "  }\n",
       "  attr {\n",
       "    key: \"_class\"\n",
       "    value {\n",
       "      list {\n",
       "        s: \"loc:@input_producer/fraction_of_32_full/limit_epochs/epochs\"\n",
       "      }\n",
       "    }\n",
       "  }\n",
       "  attr {\n",
       "    key: \"use_locking\"\n",
       "    value {\n",
       "      b: true\n",
       "    }\n",
       "  }\n",
       "  attr {\n",
       "    key: \"validate_shape\"\n",
       "    value {\n",
       "      b: true\n",
       "    }\n",
       "  }\n",
       "}\n",
       "node {\n",
       "  name: \"input_producer/fraction_of_32_full/limit_epochs/epochs/read\"\n",
       "  op: \"Identity\"\n",
       "  input: \"input_producer/fraction_of_32_full/limit_epochs/epochs\"\n",
       "  attr {\n",
       "    key: \"T\"\n",
       "    value {\n",
       "      type: DT_INT64\n",
       "    }\n",
       "  }\n",
       "  attr {\n",
       "    key: \"_class\"\n",
       "    value {\n",
       "      list {\n",
       "        s: \"loc:@input_producer/fraction_of_32_full/limit_epochs/epochs\"\n",
       "      }\n",
       "    }\n",
       "  }\n",
       "}\n",
       "node {\n",
       "  name: \"input_producer/fraction_of_32_full/limit_epochs/CountUpTo\"\n",
       "  op: \"CountUpTo\"\n",
       "  input: \"input_producer/fraction_of_32_full/limit_epochs/epochs\"\n",
       "  attr {\n",
       "    key: \"T\"\n",
       "    value {\n",
       "      type: DT_INT64\n",
       "    }\n",
       "  }\n",
       "  attr {\n",
       "    key: \"_class\"\n",
       "    value {\n",
       "      list {\n",
       "        s: \"loc:@input_producer/fraction_of_32_full/limit_epochs/epochs\"\n",
       "      }\n",
       "    }\n",
       "  }\n",
       "  attr {\n",
       "    key: \"limit\"\n",
       "    value {\n",
       "      i: 1\n",
       "    }\n",
       "  }\n",
       "}\n",
       "node {\n",
       "  name: \"input_producer/fraction_of_32_full/limit_epochs\"\n",
       "  op: \"Identity\"\n",
       "  input: \"input_producer/range\"\n",
       "  input: \"^input_producer/fraction_of_32_full/limit_epochs/CountUpTo\"\n",
       "  attr {\n",
       "    key: \"T\"\n",
       "    value {\n",
       "      type: DT_INT32\n",
       "    }\n",
       "  }\n",
       "}\n",
       "node {\n",
       "  name: \"input_producer/fraction_of_32_full/fraction_of_32_full\"\n",
       "  op: \"FIFOQueue\"\n",
       "  attr {\n",
       "    key: \"capacity\"\n",
       "    value {\n",
       "      i: 32\n",
       "    }\n",
       "  }\n",
       "  attr {\n",
       "    key: \"component_types\"\n",
       "    value {\n",
       "      list {\n",
       "        type: DT_INT32\n",
       "      }\n",
       "    }\n",
       "  }\n",
       "  attr {\n",
       "    key: \"container\"\n",
       "    value {\n",
       "      s: \"\"\n",
       "    }\n",
       "  }\n",
       "  attr {\n",
       "    key: \"shapes\"\n",
       "    value {\n",
       "      list {\n",
       "        shape {\n",
       "        }\n",
       "      }\n",
       "    }\n",
       "  }\n",
       "  attr {\n",
       "    key: \"shared_name\"\n",
       "    value {\n",
       "      s: \"\"\n",
       "    }\n",
       "  }\n",
       "}\n",
       "node {\n",
       "  name: \"input_producer/fraction_of_32_full/fraction_of_32_full_EnqueueMany\"\n",
       "  op: \"QueueEnqueueMany\"\n",
       "  input: \"input_producer/fraction_of_32_full/fraction_of_32_full\"\n",
       "  input: \"input_producer/fraction_of_32_full/limit_epochs\"\n",
       "  attr {\n",
       "    key: \"Tcomponents\"\n",
       "    value {\n",
       "      list {\n",
       "        type: DT_INT32\n",
       "      }\n",
       "    }\n",
       "  }\n",
       "  attr {\n",
       "    key: \"_class\"\n",
       "    value {\n",
       "      list {\n",
       "        s: \"loc:@input_producer/fraction_of_32_full/fraction_of_32_full\"\n",
       "      }\n",
       "    }\n",
       "  }\n",
       "  attr {\n",
       "    key: \"timeout_ms\"\n",
       "    value {\n",
       "      i: -1\n",
       "    }\n",
       "  }\n",
       "}\n",
       "node {\n",
       "  name: \"input_producer/fraction_of_32_full/fraction_of_32_full_Close\"\n",
       "  op: \"QueueClose\"\n",
       "  input: \"input_producer/fraction_of_32_full/fraction_of_32_full\"\n",
       "  attr {\n",
       "    key: \"_class\"\n",
       "    value {\n",
       "      list {\n",
       "        s: \"loc:@input_producer/fraction_of_32_full/fraction_of_32_full\"\n",
       "      }\n",
       "    }\n",
       "  }\n",
       "  attr {\n",
       "    key: \"cancel_pending_enqueues\"\n",
       "    value {\n",
       "      b: false\n",
       "    }\n",
       "  }\n",
       "}\n",
       "node {\n",
       "  name: \"input_producer/fraction_of_32_full/fraction_of_32_full_Close_1\"\n",
       "  op: \"QueueClose\"\n",
       "  input: \"input_producer/fraction_of_32_full/fraction_of_32_full\"\n",
       "  attr {\n",
       "    key: \"_class\"\n",
       "    value {\n",
       "      list {\n",
       "        s: \"loc:@input_producer/fraction_of_32_full/fraction_of_32_full\"\n",
       "      }\n",
       "    }\n",
       "  }\n",
       "  attr {\n",
       "    key: \"cancel_pending_enqueues\"\n",
       "    value {\n",
       "      b: true\n",
       "    }\n",
       "  }\n",
       "}\n",
       "node {\n",
       "  name: \"input_producer/fraction_of_32_full/fraction_of_32_full_Size\"\n",
       "  op: \"QueueSize\"\n",
       "  input: \"input_producer/fraction_of_32_full/fraction_of_32_full\"\n",
       "  attr {\n",
       "    key: \"_class\"\n",
       "    value {\n",
       "      list {\n",
       "        s: \"loc:@input_producer/fraction_of_32_full/fraction_of_32_full\"\n",
       "      }\n",
       "    }\n",
       "  }\n",
       "}\n",
       "node {\n",
       "  name: \"input_producer/fraction_of_32_full/Cast\"\n",
       "  op: \"Cast\"\n",
       "  input: \"input_producer/fraction_of_32_full/fraction_of_32_full_Size\"\n",
       "  attr {\n",
       "    key: \"DstT\"\n",
       "    value {\n",
       "      type: DT_FLOAT\n",
       "    }\n",
       "  }\n",
       "  attr {\n",
       "    key: \"SrcT\"\n",
       "    value {\n",
       "      type: DT_INT32\n",
       "    }\n",
       "  }\n",
       "}\n",
       "node {\n",
       "  name: \"input_producer/fraction_of_32_full/mul/y\"\n",
       "  op: \"Const\"\n",
       "  attr {\n",
       "    key: \"dtype\"\n",
       "    value {\n",
       "      type: DT_FLOAT\n",
       "    }\n",
       "  }\n",
       "  attr {\n",
       "    key: \"value\"\n",
       "    value {\n",
       "      tensor {\n",
       "        dtype: DT_FLOAT\n",
       "        tensor_shape {\n",
       "        }\n",
       "        float_val: 0.03125\n",
       "      }\n",
       "    }\n",
       "  }\n",
       "}\n",
       "node {\n",
       "  name: \"input_producer/fraction_of_32_full/mul\"\n",
       "  op: \"Mul\"\n",
       "  input: \"input_producer/fraction_of_32_full/Cast\"\n",
       "  input: \"input_producer/fraction_of_32_full/mul/y\"\n",
       "  attr {\n",
       "    key: \"T\"\n",
       "    value {\n",
       "      type: DT_FLOAT\n",
       "    }\n",
       "  }\n",
       "}\n",
       "node {\n",
       "  name: \"input_producer/fraction_of_32_full/ScalarSummary/tags\"\n",
       "  op: \"Const\"\n",
       "  attr {\n",
       "    key: \"dtype\"\n",
       "    value {\n",
       "      type: DT_STRING\n",
       "    }\n",
       "  }\n",
       "  attr {\n",
       "    key: \"value\"\n",
       "    value {\n",
       "      tensor {\n",
       "        dtype: DT_STRING\n",
       "        tensor_shape {\n",
       "        }\n",
       "        string_val: \"queue/input_producer/fraction_of_32_full/fraction_of_32_full/input_producer/\"\n",
       "      }\n",
       "    }\n",
       "  }\n",
       "}\n",
       "node {\n",
       "  name: \"input_producer/fraction_of_32_full/ScalarSummary\"\n",
       "  op: \"ScalarSummary\"\n",
       "  input: \"input_producer/fraction_of_32_full/ScalarSummary/tags\"\n",
       "  input: \"input_producer/fraction_of_32_full/mul\"\n",
       "  attr {\n",
       "    key: \"T\"\n",
       "    value {\n",
       "      type: DT_FLOAT\n",
       "    }\n",
       "  }\n",
       "}\n",
       "versions {\n",
       "  producer: 9\n",
       "}"
      ]
     },
     "execution_count": 30,
     "metadata": {},
     "output_type": "execute_result"
    }
   ],
   "source": [
    "tf.get_default_graph().as_graph_def()"
   ]
  },
  {
   "cell_type": "code",
   "execution_count": 47,
   "metadata": {
    "collapsed": false
   },
   "outputs": [
    {
     "data": {
      "text/plain": [
       "[<tensorflow.python.training.queue_runner.QueueRunner at 0x110f32050>]"
      ]
     },
     "execution_count": 47,
     "metadata": {},
     "output_type": "execute_result"
    }
   ],
   "source": [
    "tf.get_collection(tf.GraphKeys.QUEUE_RUNNERS)"
   ]
  },
  {
   "cell_type": "code",
   "execution_count": 48,
   "metadata": {
    "collapsed": false
   },
   "outputs": [],
   "source": [
    "threads = tf.train.start_queue_runners()"
   ]
  },
  {
   "cell_type": "code",
   "execution_count": 53,
   "metadata": {
    "collapsed": false
   },
   "outputs": [
    {
     "data": {
      "text/plain": [
       "23"
      ]
     },
     "execution_count": 53,
     "metadata": {},
     "output_type": "execute_result"
    }
   ],
   "source": [
    "sess.graph.version"
   ]
  },
  {
   "cell_type": "code",
   "execution_count": 54,
   "metadata": {
    "collapsed": false
   },
   "outputs": [
    {
     "data": {
      "text/plain": [
       "10"
      ]
     },
     "execution_count": 54,
     "metadata": {},
     "output_type": "execute_result"
    }
   ],
   "source": [
    "sess.run(inn.size())"
   ]
  },
  {
   "cell_type": "code",
   "execution_count": 55,
   "metadata": {
    "collapsed": false
   },
   "outputs": [
    {
     "data": {
      "text/plain": [
       "24"
      ]
     },
     "execution_count": 55,
     "metadata": {},
     "output_type": "execute_result"
    }
   ],
   "source": [
    "sess.graph.version"
   ]
  },
  {
   "cell_type": "code",
   "execution_count": 50,
   "metadata": {
    "collapsed": false
   },
   "outputs": [
    {
     "data": {
      "text/plain": [
       "<tensorflow.python.ops.data_flow_ops.FIFOQueue at 0x110e85610>"
      ]
     },
     "execution_count": 50,
     "metadata": {},
     "output_type": "execute_result"
    }
   ],
   "source": [
    "\"input_producer/fraction_of_32_full/fraction_of_32_full_Size:0\""
   ]
  },
  {
   "cell_type": "markdown",
   "metadata": {},
   "source": [
    "# Alternatives to \"wait forever\""
   ]
  },
  {
   "cell_type": "markdown",
   "metadata": {},
   "source": [
    "## Set session timeout"
   ]
  },
  {
   "cell_type": "code",
   "execution_count": 31,
   "metadata": {
    "collapsed": false
   },
   "outputs": [
    {
     "name": "stderr",
     "output_type": "stream",
     "text": [
      "Exception AssertionError: AssertionError() in <bound method InteractiveSession.__del__ of <tensorflow.python.client.session.InteractiveSession object at 0x1103fbc90>> ignored\n"
     ]
    },
    {
     "name": "stdout",
     "output_type": "stream",
     "text": [
      "DeadlineExceededError\n"
     ]
    }
   ],
   "source": [
    "tf.reset_default_graph()\n",
    "queue = tf.FIFOQueue(capacity=5, dtypes=[tf.int32])\n",
    "config = tf.ConfigProto()\n",
    "config.operation_timeout_in_ms=2000\n",
    "sess = tf.InteractiveSession(\"\", config=config)\n",
    "try:\n",
    "    sess.run(queue.dequeue())\n",
    "except tf.errors.DeadlineExceededError:\n",
    "    print \"DeadlineExceededError\""
   ]
  },
  {
   "cell_type": "markdown",
   "metadata": {},
   "source": [
    "## Close the queue before reading"
   ]
  },
  {
   "cell_type": "code",
   "execution_count": 29,
   "metadata": {
    "collapsed": false,
    "scrolled": true
   },
   "outputs": [
    {
     "name": "stdout",
     "output_type": "stream",
     "text": [
      "OutOfRangeError\n"
     ]
    },
    {
     "name": "stderr",
     "output_type": "stream",
     "text": [
      "Exception AssertionError: AssertionError() in <bound method InteractiveSession.__del__ of <tensorflow.python.client.session.InteractiveSession object at 0x11002a510>> ignored\n"
     ]
    }
   ],
   "source": [
    "tf.reset_default_graph()\n",
    "queue = tf.FIFOQueue(capacity=5, dtypes=[tf.int32])\n",
    "config = tf.ConfigProto()\n",
    "config.operation_timeout_in_ms=2000\n",
    "sess = tf.InteractiveSession(\"\", config=config)\n",
    "sess.run(queue.close())\n",
    "try: \n",
    "    sess.run(queue.dequeue())\n",
    "except tf.errors.OutOfRangeError as e:\n",
    "    print \"OutOfRangeError\""
   ]
  },
  {
   "cell_type": "markdown",
   "metadata": {},
   "source": [
    "## Close the queue before writing"
   ]
  },
  {
   "cell_type": "code",
   "execution_count": 30,
   "metadata": {
    "collapsed": false
   },
   "outputs": [
    {
     "name": "stdout",
     "output_type": "stream",
     "text": [
      "AbortedError\n"
     ]
    },
    {
     "name": "stderr",
     "output_type": "stream",
     "text": [
      "Exception AssertionError: AssertionError() in <bound method InteractiveSession.__del__ of <tensorflow.python.client.session.InteractiveSession object at 0x11002ae90>> ignored\n"
     ]
    }
   ],
   "source": [
    "tf.reset_default_graph()\n",
    "queue = tf.FIFOQueue(capacity=5, dtypes=[tf.int32])\n",
    "config = tf.ConfigProto()\n",
    "config.operation_timeout_in_ms=2000\n",
    "sess = tf.InteractiveSession(\"\", config=config)\n",
    "sess.run(queue.close())\n",
    "try:\n",
    "    sess.run(queue.enqueue(5))\n",
    "except tf.errors.AbortedError:\n",
    "    print \"AbortedError\""
   ]
  },
  {
   "cell_type": "markdown",
   "metadata": {},
   "source": [
    "# Simple batching example"
   ]
  },
  {
   "cell_type": "code",
   "execution_count": 73,
   "metadata": {
    "collapsed": false
   },
   "outputs": [
    {
     "name": "stderr",
     "output_type": "stream",
     "text": [
      "Exception AssertionError: AssertionError() in <bound method InteractiveSession.__del__ of <tensorflow.python.client.session.InteractiveSession object at 0x110efbc50>> ignored\n"
     ]
    },
    {
     "data": {
      "text/plain": [
       "[<Thread(Thread-30, started daemon 4586786816)>,\n",
       " <Thread(Thread-31, started daemon 4590993408)>,\n",
       " <Thread(Thread-32, started daemon 4595200000)>,\n",
       " <Thread(Thread-33, started daemon 4599406592)>]"
      ]
     },
     "execution_count": 73,
     "metadata": {},
     "output_type": "execute_result"
    }
   ],
   "source": [
    "tf.reset_default_graph()\n",
    "ranges = tf.train.range_input_producer(limit=10, num_epochs=1, shuffle=False)\n",
    "number = ranges.dequeue()\n",
    "numeric_batch = tf.train.batch_join([[number]]*3, batch_size=2)\n",
    "batch_number = numeric_batch\n",
    "\n",
    "sess = tf.InteractiveSession(config=tf.ConfigProto(operation_timeout_in_ms=6000))\n",
    "sess.run(tf.initialize_all_variables())\n",
    "tf.train.start_queue_runners()"
   ]
  },
  {
   "cell_type": "code",
   "execution_count": 74,
   "metadata": {
    "collapsed": false
   },
   "outputs": [
    {
     "data": {
      "text/plain": [
       "[<tensorflow.python.training.queue_runner.QueueRunner at 0x111160c50>,\n",
       " <tensorflow.python.training.queue_runner.QueueRunner at 0x1111dd850>]"
      ]
     },
     "execution_count": 74,
     "metadata": {},
     "output_type": "execute_result"
    }
   ],
   "source": [
    "tf.get_collection(tf.GraphKeys.QUEUE_RUNNERS)"
   ]
  },
  {
   "cell_type": "markdown",
   "metadata": {},
   "source": [
    "### Python/TensorFlow gotcha"
   ]
  },
  {
   "cell_type": "code",
   "execution_count": 76,
   "metadata": {
    "collapsed": false
   },
   "outputs": [
    {
     "name": "stdout",
     "output_type": "stream",
     "text": [
      "[0, 0, 0]\n"
     ]
    },
    {
     "name": "stderr",
     "output_type": "stream",
     "text": [
      "Exception AssertionError: AssertionError() in <bound method InteractiveSession.__del__ of <tensorflow.python.client.session.InteractiveSession object at 0x1110b33d0>> ignored\n"
     ]
    }
   ],
   "source": [
    "tf.reset_default_graph()\n",
    "ranges = tf.train.range_input_producer(limit=10, num_epochs=1, shuffle=False)\n",
    "number = ranges.dequeue()\n",
    "sess = tf.InteractiveSession(config=tf.ConfigProto(operation_timeout_in_ms=6000))\n",
    "sess.run(tf.initialize_all_variables())\n",
    "tf.train.start_queue_runners()\n",
    "\n",
    "print sess.run([number]*3)"
   ]
  },
  {
   "cell_type": "markdown",
   "metadata": {},
   "source": [
    "### Solution 1"
   ]
  },
  {
   "cell_type": "code",
   "execution_count": 77,
   "metadata": {
    "collapsed": false
   },
   "outputs": [
    {
     "name": "stdout",
     "output_type": "stream",
     "text": [
      "[0, 0, 0]\n"
     ]
    },
    {
     "name": "stderr",
     "output_type": "stream",
     "text": [
      "Exception AssertionError: AssertionError() in <bound method InteractiveSession.__del__ of <tensorflow.python.client.session.InteractiveSession object at 0x1110f7f10>> ignored\n"
     ]
    }
   ],
   "source": [
    "tf.reset_default_graph()\n",
    "ranges = tf.train.range_input_producer(limit=10, num_epochs=1, shuffle=False)\n",
    "number = ranges.dequeue()\n",
    "sess = tf.InteractiveSession(config=tf.ConfigProto(operation_timeout_in_ms=6000))\n",
    "sess.run(tf.initialize_all_variables())\n",
    "tf.train.start_queue_runners()\n",
    "\n",
    "print sess.run([ranges.dequeue()]*3)"
   ]
  },
  {
   "cell_type": "markdown",
   "metadata": {},
   "source": [
    "### Solution 2"
   ]
  },
  {
   "cell_type": "code",
   "execution_count": 78,
   "metadata": {
    "collapsed": false
   },
   "outputs": [
    {
     "name": "stdout",
     "output_type": "stream",
     "text": [
      "[1, 2, 0]\n"
     ]
    },
    {
     "name": "stderr",
     "output_type": "stream",
     "text": [
      "Exception AssertionError: AssertionError() in <bound method InteractiveSession.__del__ of <tensorflow.python.client.session.InteractiveSession object at 0x111257a50>> ignored\n"
     ]
    }
   ],
   "source": [
    "tf.reset_default_graph()\n",
    "ranges = tf.train.range_input_producer(limit=10, num_epochs=1, shuffle=False)\n",
    "number = ranges.dequeue()\n",
    "sess = tf.InteractiveSession(config=tf.ConfigProto(operation_timeout_in_ms=6000))\n",
    "sess.run(tf.initialize_all_variables())\n",
    "tf.train.start_queue_runners()\n",
    "\n",
    "print sess.run([ranges.dequeue(), ranges.dequeue(), ranges.dequeue()])"
   ]
  }
 ],
 "metadata": {
  "kernelspec": {
   "display_name": "Python 2",
   "language": "python",
   "name": "python2"
  },
  "language_info": {
   "codemirror_mode": {
    "name": "ipython",
    "version": 2
   },
   "file_extension": ".py",
   "mimetype": "text/x-python",
   "name": "python",
   "nbconvert_exporter": "python",
   "pygments_lexer": "ipython2",
   "version": "2.7.10"
  }
 },
 "nbformat": 4,
 "nbformat_minor": 0
}
