{
 "cells": [
  {
   "cell_type": "markdown",
   "metadata": {},
   "source": [
    "# Rewire gradients for less memory"
   ]
  },
  {
   "cell_type": "markdown",
   "metadata": {},
   "source": [
    "## Utilities and imports"
   ]
  },
  {
   "cell_type": "code",
   "execution_count": 4,
   "metadata": {
    "collapsed": false
   },
   "outputs": [
    {
     "data": {
      "text/plain": [
       "'1.1.0'"
      ]
     },
     "execution_count": 4,
     "metadata": {},
     "output_type": "execute_result"
    }
   ],
   "source": [
    "# for instructions of how to enable Log memory usage see\n",
    "# https://github.com/yaroslavvb/notebooks/blob/master/mnist-memory.ipynb\n",
    "import os\n",
    "os.environ[\"CUDA_VISIBLE_DEVICES\"]=\"\"\n",
    "%matplotlib inline\n",
    "import matplotlib.pyplot as plt\n",
    "\n",
    "import tensorflow as tf\n",
    "import numpy as np\n",
    "import re, os, sys\n",
    "tf.__version__"
   ]
  },
  {
   "cell_type": "markdown",
   "metadata": {},
   "source": [
    "### Graph visualizer"
   ]
  },
  {
   "cell_type": "code",
   "execution_count": 2,
   "metadata": {
    "collapsed": false
   },
   "outputs": [
    {
     "data": {
      "text/html": [
       "<style>.container { width:100% !important; }</style>"
      ],
      "text/plain": [
       "<IPython.core.display.HTML object>"
      ]
     },
     "metadata": {},
     "output_type": "display_data"
    }
   ],
   "source": [
    "# make things wide\n",
    "from IPython.core.display import display, HTML\n",
    "display(HTML(\"<style>.container { width:100% !important; }</style>\"))\n",
    "\n",
    "from IPython.display import clear_output, Image, display, HTML\n",
    "\n",
    "def strip_consts(graph_def, max_const_size=32):\n",
    "    \"\"\"Strip large constant values from graph_def.\"\"\"\n",
    "    strip_def = tf.GraphDef()\n",
    "    for n0 in graph_def.node:\n",
    "        n = strip_def.node.add() \n",
    "        n.MergeFrom(n0)\n",
    "        if n.op == 'Const':\n",
    "            tensor = n.attr['value'].tensor\n",
    "            size = len(tensor.tensor_content)\n",
    "            if size > max_const_size:\n",
    "                tensor.tensor_content = \"<stripped %d bytes>\"%size\n",
    "    return strip_def\n",
    "\n",
    "def show_graph(graph_def=None, width=1200, height=800, max_const_size=32, ungroup_gradients=False):\n",
    "    if not graph_def:\n",
    "        graph_def = tf.get_default_graph().as_graph_def()\n",
    "        \n",
    "    \"\"\"Visualize TensorFlow graph.\"\"\"\n",
    "    if hasattr(graph_def, 'as_graph_def'):\n",
    "        graph_def = graph_def.as_graph_def()\n",
    "    strip_def = strip_consts(graph_def, max_const_size=max_const_size)\n",
    "    data = str(strip_def)\n",
    "    if ungroup_gradients:\n",
    "        data = data.replace('\"gradients/', '\"b_')\n",
    "        #print(data)\n",
    "    code = \"\"\"\n",
    "        <script>\n",
    "          function load() {{\n",
    "            document.getElementById(\"{id}\").pbtxt = {data};\n",
    "          }}\n",
    "        </script>\n",
    "        <link rel=\"import\" href=\"https://tensorboard.appspot.com/tf-graph-basic.build.html\" onload=load()>\n",
    "        <div style=\"height:600px\">\n",
    "          <tf-graph-basic id=\"{id}\"></tf-graph-basic>\n",
    "        </div>\n",
    "    \"\"\".format(data=repr(data), id='graph'+str(np.random.rand()))\n",
    "\n",
    "    iframe = \"\"\"\n",
    "        <iframe seamless style=\"width:{}px;height:{}px;border:0\" srcdoc=\"{}\"></iframe>\n",
    "    \"\"\".format(width, height, code.replace('\"', '&quot;'))\n",
    "    display(HTML(iframe))"
   ]
  },
  {
   "cell_type": "markdown",
   "metadata": {},
   "source": [
    "### Input redirector"
   ]
  },
  {
   "cell_type": "markdown",
   "metadata": {},
   "source": [
    "Better solution here: http://stackoverflow.com/questions/41216215/using-pipes-to-capture-things-printed-to-stderr-into-python-variable-from-jupyte"
   ]
  },
  {
   "cell_type": "code",
   "execution_count": 3,
   "metadata": {
    "collapsed": true
   },
   "outputs": [],
   "source": [
    "import os\n",
    "import sys\n",
    "\n",
    "STDOUT = 1\n",
    "STDERR = 2\n",
    "\n",
    "# this hangs when pipe buffer is full\n",
    "\n",
    "class FDRedirector(object):\n",
    "    \"\"\" Class to redirect output (stdout or stderr) at the OS level using\n",
    "        file descriptors.\n",
    "    \"\"\" \n",
    "\n",
    "    def __init__(self, fd=STDOUT):\n",
    "        \"\"\" fd is the file descriptor of the outpout you want to capture.\n",
    "            It can be STDOUT or STERR.\n",
    "        \"\"\"\n",
    "        self.fd = fd\n",
    "        self.started = False\n",
    "        self.piper = None\n",
    "        self.pipew = None\n",
    "\n",
    "    def start(self):\n",
    "        \"\"\" Setup the redirection.\n",
    "        \"\"\"\n",
    "        if not self.started:\n",
    "            self.oldhandle = os.dup(self.fd)\n",
    "            self.piper, self.pipew = os.pipe()\n",
    "            os.dup2(self.pipew, self.fd)\n",
    "            os.close(self.pipew)\n",
    "\n",
    "            self.started = True\n",
    "\n",
    "    def flush(self):\n",
    "        \"\"\" Flush the captured output, similar to the flush method of any\n",
    "        stream.\n",
    "        \"\"\"\n",
    "        if self.fd == STDOUT:\n",
    "            sys.stdout.flush()\n",
    "        elif self.fd == STDERR:\n",
    "            sys.stderr.flush()\n",
    "\n",
    "    def stop(self):\n",
    "        \"\"\" Unset the redirection and return the captured output. \n",
    "        \"\"\"\n",
    "        if self.started:\n",
    "            self.flush()\n",
    "            os.dup2(self.oldhandle, self.fd)\n",
    "            os.close(self.oldhandle)\n",
    "            f = os.fdopen(self.piper, 'r')\n",
    "            output = f.read()\n",
    "            f.close()\n",
    "\n",
    "            self.started = False\n",
    "            return output\n",
    "        else:\n",
    "            return ''\n",
    "\n",
    "    def getvalue(self):\n",
    "        \"\"\" Return the output captured since the last getvalue, or the\n",
    "        start of the redirection.\n",
    "        \"\"\"\n",
    "        output = self.stop()\n",
    "        self.start()\n",
    "        return output\n",
    "\n",
    "redirect=FDRedirector(STDERR)\n",
    "stderr = \"\"\n",
    "\n",
    "from contextlib import contextmanager\n",
    "@contextmanager\n",
    "def grab_stderr():\n",
    "    global stderr\n",
    "    redirect.start();\n",
    "    yield\n",
    "    stderr = redirect.stop()\n",
    "    \n",
    "def open_tag(tag):\n",
    "    sess.run(tf.Print(tf.constant(1), [tf.constant(1)], tag+\"<BEGIN>\"))\n",
    "    \n",
    "def close_tag(tag):\n",
    "    sess.run(tf.Print(tf.constant(1), [tf.constant(1)], tag+\"<END>\"))\n",
    "    \n",
    "def grab_output(tag, filename=\"/tmp/jupyter.txt\"):\n",
    "    s = open(filename).read()\n",
    "    opening_tag = tag+\"<BEGIN>\"\n",
    "    ending_tag = tag+\"<END>\"\n",
    "    starting_pos = s.rfind(opening_tag)\n",
    "    ending_pos = s.rfind(ending_tag)\n",
    "    return s[starting_pos:ending_pos]"
   ]
  },
  {
   "cell_type": "markdown",
   "metadata": {},
   "source": [
    "### Memory timeline utils"
   ]
  },
  {
   "cell_type": "code",
   "execution_count": 6,
   "metadata": {
    "collapsed": false
   },
   "outputs": [],
   "source": [
    "import re\n",
    "import tensorflow as tf\n",
    "\n",
    "# Setup utilities to parse __LOG_MEMORY__ statements in command-line\n",
    "tensor_allocation_regex = re.compile(r\"allocated_bytes: (?P<allocated_bytes>\\d+).*.*allocation_id: (?P<allocation_id>\\d+).*timestamp (?P<timestamp>\\d+)\")\n",
    "tensor_output_regex = re.compile(\"\"\"MemoryLogTensorOutput.* step_id: (?P<step_id>[-0123456789]+) kernel_name: \\\"(?P<kernel_name>[^\"]+).*allocated_bytes: (?P<allocated_bytes>\\d+).*allocation_id: (?P<allocation_id>\\d+).*timestamp (?P<timestamp>\\d+)\"\"\")   \n",
    "tensor_deallocation_regex = re.compile(r\"allocation_id: (?P<allocation_id>\\d+).*timestamp (?P<timestamp>\\d+)\")\n",
    "\n",
    "def _parse_logline(l):\n",
    "    # There are 4 kinds of lines with __LOG_MEMORY__ tag\n",
    "    # MemoryLogTensorDeallocation, MemoryLogTensorAllocation, MemoryLogStep,\n",
    "    #\n",
    "    # Example lines for debugging:\n",
    "    # MemoryLogTensorDeallocation\n",
    "    # 5143420588.000000 file tensorflow/core/framework/log_memory.cc:41] __LOG_MEMORY__ MemoryLogTensorDeallocation { allocation_id: 2 allocator_name: \"cpu\" } timestamp 5143420588459765\n",
    "\n",
    "    # MemoryLogTensorAllocation\n",
    "    # I 5143420588.000000 file tensorflow/core/framework/log_memory.cc:41] __LOG_MEMORY__ MemoryLogTensorAllocation { step_id: -6 kernel_name: \"Unknown (from Proto)\" tensor { dtype: DT_INT32 shape { dim { size: 3 } } allocation_description { requested_bytes: 12 allocated_bytes: 12 allocator_name: \"cpu\" allocation_id: 3 has_single_reference: true ptr: 29496256 } } } timestamp 5143420588526034\n",
    "\n",
    "    # MemoryLogStep\n",
    "    # I 5143420588.000000 file tensorflow/core/framework/log_memory.cc:41] __LOG_MEMORY__ MemoryLogStep { step_id: 1 handle: \"->Print:0//0/;0\" } timestamp 5143420588718348\n",
    "\n",
    "    # MemoryLogTensorOutput\n",
    "    # I 5143420588.000000 file tensorflow/core/framework/log_memory.cc:41] __LOG_MEMORY__ MemoryLogTensorOutput { step_id: 1 kernel_name: \"Const\" tensor { dtype: DT_INT32 shape { dim { size: 3 } } allocation_description { requested_bytes: 12 allocated_bytes: 12 allocator_name: \"cpu\" allocation_id: 3 ptr: 29496256 } } } timestamp 5143420588932740\n",
    "     \n",
    "    # some weird initialization step \n",
    "    # if \"step_id: -6\" in l:\n",
    "    #    return {}\n",
    "    \n",
    "    if 'MemoryLogTensorOutput' in l:\n",
    "        m = tensor_output_regex.search(l)\n",
    "        # assert m, l\n",
    "        if not m:  # some Shape lines are missing bytes info, ie\n",
    "            # I 5162643141.000000 file tensorflow/core/framework/log_memory.cc:41] __LOG_MEMORY__ MemoryLogTensorOutput { step_id: 5 kernel_name: \"gradients/Shape\" tensor { dtype: DT_INT32 shape { dim { } } } } timestamp 5162643141310124\n",
    "            return {}\n",
    "        d = {f: m.group(f) for f in [\"timestamp\", \"allocation_id\",\n",
    "                                     \"allocated_bytes\", \"kernel_name\"]}\n",
    "        d[\"timestamp\"] = int(d[\"timestamp\"])\n",
    "        d[\"allocation_id\"] = int(d[\"allocation_id\"])\n",
    "        d[\"allocated_bytes\"] = int(d[\"allocated_bytes\"])\n",
    "    elif 'MemoryLogTensorAllocation' in l:\n",
    "        m = tensor_allocation_regex.search(l)\n",
    "        d = {f: int(m.group(f)) for f in [\"timestamp\", \"allocation_id\",\n",
    "                                          \"allocated_bytes\"]}\n",
    "        d[\"kernel_name\"] = \"<unknown>\"\n",
    "    elif 'MemoryLogTensorDeallocation' in l:\n",
    "        m = tensor_deallocation_regex.search(l)\n",
    "        assert m, l\n",
    "        d = {f: int(m.group(f)) for f in [\"timestamp\", \"allocation_id\"]}\n",
    "    else:\n",
    "        d = {}\n",
    "    return d\n",
    "\n",
    "def memory_timeline(output):\n",
    "    \"\"\"Returns array of tuples representing memory actions\n",
    "    (timestamp_nanoseconds, kernel_name, memory_bytes)\n",
    "    memory is positive for allocations and negative for deallocations.\n",
    "    timestamps are relative to the first memory allocation line found\n",
    "    \"\"\"\n",
    "    \n",
    "    parsed_lines = [_parse_logline(l) for l in output.split(\"\\n\")]\n",
    "    parsed_lines = [l for l in parsed_lines if l] # remove Nones\n",
    "    parsed_lines.sort(key=lambda l: l[\"timestamp\"])\n",
    "    first_timestamp = parsed_lines[0][\"timestamp\"]\n",
    "    \n",
    "    # Tensors that are output have two records (allocation and output)\n",
    "    # since output comes after, overwrite allocation_map with output\n",
    "    # info (it has kernel_name)\n",
    "    allocation_map = {} # map of allocation_id->parsed_logline of allocation\n",
    "    double_records = {} # map of ids which have both allocation and output\n",
    "    for line in parsed_lines:\n",
    "        if \"kernel_name\" in line:\n",
    "            if line[\"allocation_id\"] in allocation_map:\n",
    "                double_records[line[\"allocation_id\"]] = True\n",
    "            line[\"allocation_id\"]\n",
    "            allocation_map[line[\"allocation_id\"]] = line\n",
    "            \n",
    "\n",
    "    result = []\n",
    "    for line in parsed_lines:\n",
    "        if \"kernel_name\" in line:\n",
    "            # ignore tensorallocation lines which will later have tensoroutput\n",
    "            if (line[\"allocation_id\"] in double_records and\n",
    "                line[\"kernel_name\"] == \"<unknown>\"):\n",
    "                continue\n",
    "            kernel_name = line[\"kernel_name\"]\n",
    "            allocated_bytes = line[\"allocated_bytes\"]\n",
    "        else: # deallocation\n",
    "            allocation_line = allocation_map[line[\"allocation_id\"]]\n",
    "            kernel_name = allocation_line[\"kernel_name\"]\n",
    "            allocated_bytes = -allocation_line[\"allocated_bytes\"]\n",
    "        result.append((line[\"timestamp\"]-first_timestamp, kernel_name,\n",
    "                       allocated_bytes))\n",
    "    return result\n",
    "\n",
    "\n",
    "def print_memory_timeline(stderr):\n",
    "    total_memory = 0\n",
    "    for record in memory_timeline(stderr):\n",
    "        timestamp, kernel_name, allocated_bytes = record\n",
    "        if abs(allocated_bytes)<1000:\n",
    "            continue  # ignore small allocations\n",
    "        total_memory += allocated_bytes\n",
    "        print(\"%9d %40s %11d %11d\"%(timestamp, kernel_name, allocated_bytes, total_memory))\n",
    "\n",
    "def plot_memory_timeline(stderr):\n",
    "    total_memory = 0\n",
    "    timestamps = []\n",
    "    data = []\n",
    "    for record in memory_timeline(stderr):\n",
    "        timestamps.append(record[0]-1)\n",
    "        data.append(total_memory)\n",
    "        total_memory += record[-1]\n",
    "        timestamps.append(record[0])\n",
    "        data.append(total_memory)\n",
    "    plt.plot(timestamps, data)\n",
    "    \n",
    "    \n",
    "run_metadata = tf.RunMetadata()\n",
    "def summarize(run_metadata=run_metadata):\n",
    "    ss = tf.contrib.stat_summarizer.NewStatSummarizer(tf.get_default_graph().as_graph_def().SerializeToString())\n",
    "    ss.ProcessStepStatsStr(run_metadata.step_stats.SerializeToString())\n",
    "    print(ss.GetOutputString())\n",
    "    \n",
    "def create_session():\n",
    "    config = tf.ConfigProto(graph_options=tf.GraphOptions(\n",
    "        optimizer_options=tf.OptimizerOptions(\n",
    "            opt_level=tf.OptimizerOptions.L0)))\n",
    "    return tf.Session(config=config)\n",
    "\n",
    "def printops(ops):\n",
    "    print([op.name for op in ops])\n",
    "    \n",
    "run_options = tf.RunOptions(trace_level=tf.RunOptions.FULL_TRACE)\n",
    "def sessrun(*args, **kwargs):\n",
    "    sess = create_session()\n",
    "    sess.run(tf.global_variables_initializer())\n",
    "    kwargs[\"run_metadata\"] = run_metadata\n",
    "    kwargs[\"options\"] = run_options\n",
    "    return sess.run(*args, **kwargs)\n",
    "\n",
    "import tensorflow.contrib.graph_editor as ge\n",
    "def run_after(a_tensor, b_tensor):\n",
    "    \"\"\"Force a to run after b\"\"\"\n",
    "    ge.reroute.add_control_inputs(a_tensor.op, [b_tensor.op])\n",
    "    "
   ]
  },
  {
   "cell_type": "markdown",
   "metadata": {},
   "source": [
    "## Simple graph"
   ]
  },
  {
   "cell_type": "code",
   "execution_count": 7,
   "metadata": {
    "collapsed": false
   },
   "outputs": [],
   "source": [
    "n=1000*1000*25\n",
    "tf.reset_default_graph()\n",
    "a1 = tf.placeholder(tf.float32, name=\"a1\", shape=(n,))\n",
    "a2 = tf.tanh(a1, name=\"a2\")\n",
    "a3 = tf.tanh(a2, name=\"a3\")\n",
    "cost = tf.reduce_sum(a3, name=\"cost\")\n",
    "xs = [a1]\n",
    "ys = [cost]\n",
    "fwd_ops = ge.get_walks_intersection_ops(forward_seed_ops=[x.op for x in xs], backward_seed_ops=[y.op for y in ys])\n",
    "grads = tf.gradients(ys, xs)"
   ]
  },
  {
   "cell_type": "code",
   "execution_count": 8,
   "metadata": {
    "collapsed": false
   },
   "outputs": [
    {
     "ename": "NameError",
     "evalue": "name 'redirect' is not defined",
     "output_type": "error",
     "traceback": [
      "\u001b[0;31m---------------------------------------------------------------------------\u001b[0m",
      "\u001b[0;31mNameError\u001b[0m                                 Traceback (most recent call last)",
      "\u001b[0;32m<ipython-input-8-d8aeefa213b8>\u001b[0m in \u001b[0;36m<module>\u001b[0;34m()\u001b[0m\n\u001b[1;32m      1\u001b[0m \u001b[0msess\u001b[0m \u001b[0;34m=\u001b[0m \u001b[0mcreate_session\u001b[0m\u001b[0;34m(\u001b[0m\u001b[0;34m)\u001b[0m\u001b[0;34m\u001b[0m\u001b[0m\n\u001b[0;32m----> 2\u001b[0;31m \u001b[0mredirect\u001b[0m\u001b[0;34m.\u001b[0m\u001b[0mstart\u001b[0m\u001b[0;34m(\u001b[0m\u001b[0;34m)\u001b[0m\u001b[0;34m;\u001b[0m\u001b[0;34m\u001b[0m\u001b[0m\n\u001b[0m\u001b[1;32m      3\u001b[0m \u001b[0msess\u001b[0m\u001b[0;34m.\u001b[0m\u001b[0mrun\u001b[0m\u001b[0;34m(\u001b[0m\u001b[0mgrads\u001b[0m\u001b[0;34m[\u001b[0m\u001b[0;36m0\u001b[0m\u001b[0;34m]\u001b[0m\u001b[0;34m.\u001b[0m\u001b[0mop\u001b[0m\u001b[0;34m,\u001b[0m \u001b[0mfeed_dict\u001b[0m\u001b[0;34m=\u001b[0m\u001b[0;34m{\u001b[0m\u001b[0ma1\u001b[0m\u001b[0;34m:\u001b[0m\u001b[0mnp\u001b[0m\u001b[0;34m.\u001b[0m\u001b[0mzeros\u001b[0m\u001b[0;34m(\u001b[0m\u001b[0;34m(\u001b[0m\u001b[0mn\u001b[0m\u001b[0;34m,\u001b[0m\u001b[0;34m)\u001b[0m\u001b[0;34m)\u001b[0m\u001b[0;34m}\u001b[0m\u001b[0;34m)\u001b[0m\u001b[0;34m\u001b[0m\u001b[0m\n\u001b[1;32m      4\u001b[0m \u001b[0mstderr\u001b[0m \u001b[0;34m=\u001b[0m \u001b[0mredirect\u001b[0m\u001b[0;34m.\u001b[0m\u001b[0mstop\u001b[0m\u001b[0;34m(\u001b[0m\u001b[0;34m)\u001b[0m\u001b[0;34m\u001b[0m\u001b[0m\n\u001b[1;32m      5\u001b[0m \u001b[0mplot_memory_timeline\u001b[0m\u001b[0;34m(\u001b[0m\u001b[0mstderr\u001b[0m\u001b[0;34m)\u001b[0m\u001b[0;34m\u001b[0m\u001b[0m\n",
      "\u001b[0;31mNameError\u001b[0m: name 'redirect' is not defined"
     ]
    }
   ],
   "source": [
    "sess = create_session()\n",
    "redirect.start();\n",
    "sess.run(grads[0].op, feed_dict={a1:np.zeros((n,))})\n",
    "stderr = redirect.stop()\n",
    "plot_memory_timeline(stderr)"
   ]
  },
  {
   "cell_type": "code",
   "execution_count": 7,
   "metadata": {
    "collapsed": false
   },
   "outputs": [
    {
     "name": "stdout",
     "output_type": "stream",
     "text": [
      " 39971463                                       a2   100000000   100000000\n",
      " 40383258                 gradients/cost_grad/Tile   100000000   200000000\n",
      " 48615535                                       a3   100000000   300000000\n",
      " 62861878               gradients/a3_grad/TanhGrad   100000000   400000000\n",
      " 62953267                                       a3  -100000000   300000000\n",
      " 63341227                 gradients/cost_grad/Tile  -100000000   200000000\n",
      " 74271814               gradients/a2_grad/TanhGrad   100000000   300000000\n",
      " 74369276                                       a2  -100000000   200000000\n",
      " 74920551               gradients/a3_grad/TanhGrad  -100000000   100000000\n",
      " 75289873               gradients/a2_grad/TanhGrad  -100000000           0\n"
     ]
    }
   ],
   "source": [
    "print_memory_timeline(stderr)"
   ]
  },
  {
   "cell_type": "code",
   "execution_count": 9,
   "metadata": {
    "collapsed": false
   },
   "outputs": [
    {
     "data": {
      "text/html": [
       "\n",
       "        <iframe seamless style=\"width:1200px;height:800px;border:0\" srcdoc=\"\n",
       "        <script>\n",
       "          function load() {\n",
       "            document.getElementById(&quot;graph0.2321073006319052&quot;).pbtxt = 'node {\\n  name: &quot;a1&quot;\\n  op: &quot;Placeholder&quot;\\n  attr {\\n    key: &quot;dtype&quot;\\n    value {\\n      type: DT_FLOAT\\n    }\\n  }\\n  attr {\\n    key: &quot;shape&quot;\\n    value {\\n      shape {\\n        dim {\\n          size: 25000000\\n        }\\n      }\\n    }\\n  }\\n}\\nnode {\\n  name: &quot;a2&quot;\\n  op: &quot;Tanh&quot;\\n  input: &quot;a1&quot;\\n  attr {\\n    key: &quot;T&quot;\\n    value {\\n      type: DT_FLOAT\\n    }\\n  }\\n}\\nnode {\\n  name: &quot;a3&quot;\\n  op: &quot;Tanh&quot;\\n  input: &quot;a2&quot;\\n  attr {\\n    key: &quot;T&quot;\\n    value {\\n      type: DT_FLOAT\\n    }\\n  }\\n}\\nnode {\\n  name: &quot;Const&quot;\\n  op: &quot;Const&quot;\\n  attr {\\n    key: &quot;dtype&quot;\\n    value {\\n      type: DT_INT32\\n    }\\n  }\\n  attr {\\n    key: &quot;value&quot;\\n    value {\\n      tensor {\\n        dtype: DT_INT32\\n        tensor_shape {\\n          dim {\\n            size: 1\\n          }\\n        }\\n        int_val: 0\\n      }\\n    }\\n  }\\n}\\nnode {\\n  name: &quot;cost&quot;\\n  op: &quot;Sum&quot;\\n  input: &quot;a3&quot;\\n  input: &quot;Const&quot;\\n  attr {\\n    key: &quot;T&quot;\\n    value {\\n      type: DT_FLOAT\\n    }\\n  }\\n  attr {\\n    key: &quot;Tidx&quot;\\n    value {\\n      type: DT_INT32\\n    }\\n  }\\n  attr {\\n    key: &quot;keep_dims&quot;\\n    value {\\n      b: false\\n    }\\n  }\\n}\\nnode {\\n  name: &quot;b_Shape&quot;\\n  op: &quot;Const&quot;\\n  attr {\\n    key: &quot;dtype&quot;\\n    value {\\n      type: DT_INT32\\n    }\\n  }\\n  attr {\\n    key: &quot;value&quot;\\n    value {\\n      tensor {\\n        dtype: DT_INT32\\n        tensor_shape {\\n          dim {\\n          }\\n        }\\n      }\\n    }\\n  }\\n}\\nnode {\\n  name: &quot;b_Const&quot;\\n  op: &quot;Const&quot;\\n  attr {\\n    key: &quot;dtype&quot;\\n    value {\\n      type: DT_FLOAT\\n    }\\n  }\\n  attr {\\n    key: &quot;value&quot;\\n    value {\\n      tensor {\\n        dtype: DT_FLOAT\\n        tensor_shape {\\n        }\\n        float_val: 1.0\\n      }\\n    }\\n  }\\n}\\nnode {\\n  name: &quot;b_Fill&quot;\\n  op: &quot;Fill&quot;\\n  input: &quot;b_Shape&quot;\\n  input: &quot;b_Const&quot;\\n  attr {\\n    key: &quot;T&quot;\\n    value {\\n      type: DT_FLOAT\\n    }\\n  }\\n}\\nnode {\\n  name: &quot;b_cost_grad/Reshape/shape&quot;\\n  op: &quot;Const&quot;\\n  attr {\\n    key: &quot;dtype&quot;\\n    value {\\n      type: DT_INT32\\n    }\\n  }\\n  attr {\\n    key: &quot;value&quot;\\n    value {\\n      tensor {\\n        dtype: DT_INT32\\n        tensor_shape {\\n          dim {\\n            size: 1\\n          }\\n        }\\n        int_val: 1\\n      }\\n    }\\n  }\\n}\\nnode {\\n  name: &quot;b_cost_grad/Reshape&quot;\\n  op: &quot;Reshape&quot;\\n  input: &quot;b_Fill&quot;\\n  input: &quot;b_cost_grad/Reshape/shape&quot;\\n  attr {\\n    key: &quot;T&quot;\\n    value {\\n      type: DT_FLOAT\\n    }\\n  }\\n  attr {\\n    key: &quot;Tshape&quot;\\n    value {\\n      type: DT_INT32\\n    }\\n  }\\n}\\nnode {\\n  name: &quot;b_cost_grad/Tile/multiples&quot;\\n  op: &quot;Const&quot;\\n  attr {\\n    key: &quot;dtype&quot;\\n    value {\\n      type: DT_INT32\\n    }\\n  }\\n  attr {\\n    key: &quot;value&quot;\\n    value {\\n      tensor {\\n        dtype: DT_INT32\\n        tensor_shape {\\n          dim {\\n            size: 1\\n          }\\n        }\\n        int_val: 25000000\\n      }\\n    }\\n  }\\n}\\nnode {\\n  name: &quot;b_cost_grad/Tile&quot;\\n  op: &quot;Tile&quot;\\n  input: &quot;b_cost_grad/Reshape&quot;\\n  input: &quot;b_cost_grad/Tile/multiples&quot;\\n  attr {\\n    key: &quot;T&quot;\\n    value {\\n      type: DT_FLOAT\\n    }\\n  }\\n  attr {\\n    key: &quot;Tmultiples&quot;\\n    value {\\n      type: DT_INT32\\n    }\\n  }\\n}\\nnode {\\n  name: &quot;b_a3_grad/TanhGrad&quot;\\n  op: &quot;TanhGrad&quot;\\n  input: &quot;a3&quot;\\n  input: &quot;b_cost_grad/Tile&quot;\\n  attr {\\n    key: &quot;T&quot;\\n    value {\\n      type: DT_FLOAT\\n    }\\n  }\\n}\\nnode {\\n  name: &quot;b_a2_grad/TanhGrad&quot;\\n  op: &quot;TanhGrad&quot;\\n  input: &quot;a2&quot;\\n  input: &quot;b_a3_grad/TanhGrad&quot;\\n  attr {\\n    key: &quot;T&quot;\\n    value {\\n      type: DT_FLOAT\\n    }\\n  }\\n}\\n';\n",
       "          }\n",
       "        </script>\n",
       "        <link rel=&quot;import&quot; href=&quot;https://tensorboard.appspot.com/tf-graph-basic.build.html&quot; onload=load()>\n",
       "        <div style=&quot;height:600px&quot;>\n",
       "          <tf-graph-basic id=&quot;graph0.2321073006319052&quot;></tf-graph-basic>\n",
       "        </div>\n",
       "    \"></iframe>\n",
       "    "
      ],
      "text/plain": [
       "<IPython.core.display.HTML object>"
      ]
     },
     "metadata": {},
     "output_type": "display_data"
    }
   ],
   "source": [
    "show_graph(ungroup_gradients=True)"
   ]
  },
  {
   "cell_type": "code",
   "execution_count": 10,
   "metadata": {
    "collapsed": false
   },
   "outputs": [
    {
     "name": "stdout",
     "output_type": "stream",
     "text": [
      "['a2']\n"
     ]
    }
   ],
   "source": [
    "# save everything between a3 and a1\n",
    "remember_ts = ge.filter_ts_from_regex(fwd_ops, \"a1|a3\")\n",
    "intermediate_ops = ge.get_walks_intersection_ops(forward_seed_ops=[remember_ts[0].op], backward_seed_ops=[remember_ts[1].op])\n",
    "intermediate_ops = intermediate_ops[1:-1]  # remove starting/endpoints\n",
    "printops(intermediate_ops)"
   ]
  },
  {
   "cell_type": "code",
   "execution_count": 11,
   "metadata": {
    "collapsed": false
   },
   "outputs": [
    {
     "name": "stdout",
     "output_type": "stream",
     "text": [
      "WARNING:tensorflow:VARIABLES collection name is deprecated, please use GLOBAL_VARIABLES instead; VARIABLES will be removed after 2017-03-02.\n",
      "WARNING:tensorflow:VARIABLES collection name is deprecated, please use GLOBAL_VARIABLES instead; VARIABLES will be removed after 2017-03-02.\n"
     ]
    },
    {
     "data": {
      "text/html": [
       "\n",
       "        <iframe seamless style=\"width:1200px;height:800px;border:0\" srcdoc=\"\n",
       "        <script>\n",
       "          function load() {\n",
       "            document.getElementById(&quot;graph0.11356853209468576&quot;).pbtxt = 'node {\\n  name: &quot;a1&quot;\\n  op: &quot;Placeholder&quot;\\n  attr {\\n    key: &quot;dtype&quot;\\n    value {\\n      type: DT_FLOAT\\n    }\\n  }\\n  attr {\\n    key: &quot;shape&quot;\\n    value {\\n      shape {\\n        dim {\\n          size: 25000000\\n        }\\n      }\\n    }\\n  }\\n}\\nnode {\\n  name: &quot;a2&quot;\\n  op: &quot;Tanh&quot;\\n  input: &quot;a1&quot;\\n  attr {\\n    key: &quot;T&quot;\\n    value {\\n      type: DT_FLOAT\\n    }\\n  }\\n}\\nnode {\\n  name: &quot;a3&quot;\\n  op: &quot;Tanh&quot;\\n  input: &quot;a2&quot;\\n  attr {\\n    key: &quot;T&quot;\\n    value {\\n      type: DT_FLOAT\\n    }\\n  }\\n}\\nnode {\\n  name: &quot;Const&quot;\\n  op: &quot;Const&quot;\\n  attr {\\n    key: &quot;dtype&quot;\\n    value {\\n      type: DT_INT32\\n    }\\n  }\\n  attr {\\n    key: &quot;value&quot;\\n    value {\\n      tensor {\\n        dtype: DT_INT32\\n        tensor_shape {\\n          dim {\\n            size: 1\\n          }\\n        }\\n        int_val: 0\\n      }\\n    }\\n  }\\n}\\nnode {\\n  name: &quot;cost&quot;\\n  op: &quot;Sum&quot;\\n  input: &quot;a3&quot;\\n  input: &quot;Const&quot;\\n  attr {\\n    key: &quot;T&quot;\\n    value {\\n      type: DT_FLOAT\\n    }\\n  }\\n  attr {\\n    key: &quot;Tidx&quot;\\n    value {\\n      type: DT_INT32\\n    }\\n  }\\n  attr {\\n    key: &quot;keep_dims&quot;\\n    value {\\n      b: false\\n    }\\n  }\\n}\\nnode {\\n  name: &quot;b_Shape&quot;\\n  op: &quot;Const&quot;\\n  attr {\\n    key: &quot;dtype&quot;\\n    value {\\n      type: DT_INT32\\n    }\\n  }\\n  attr {\\n    key: &quot;value&quot;\\n    value {\\n      tensor {\\n        dtype: DT_INT32\\n        tensor_shape {\\n          dim {\\n          }\\n        }\\n      }\\n    }\\n  }\\n}\\nnode {\\n  name: &quot;b_Const&quot;\\n  op: &quot;Const&quot;\\n  attr {\\n    key: &quot;dtype&quot;\\n    value {\\n      type: DT_FLOAT\\n    }\\n  }\\n  attr {\\n    key: &quot;value&quot;\\n    value {\\n      tensor {\\n        dtype: DT_FLOAT\\n        tensor_shape {\\n        }\\n        float_val: 1.0\\n      }\\n    }\\n  }\\n}\\nnode {\\n  name: &quot;b_Fill&quot;\\n  op: &quot;Fill&quot;\\n  input: &quot;b_Shape&quot;\\n  input: &quot;b_Const&quot;\\n  attr {\\n    key: &quot;T&quot;\\n    value {\\n      type: DT_FLOAT\\n    }\\n  }\\n}\\nnode {\\n  name: &quot;b_cost_grad/Reshape/shape&quot;\\n  op: &quot;Const&quot;\\n  attr {\\n    key: &quot;dtype&quot;\\n    value {\\n      type: DT_INT32\\n    }\\n  }\\n  attr {\\n    key: &quot;value&quot;\\n    value {\\n      tensor {\\n        dtype: DT_INT32\\n        tensor_shape {\\n          dim {\\n            size: 1\\n          }\\n        }\\n        int_val: 1\\n      }\\n    }\\n  }\\n}\\nnode {\\n  name: &quot;b_cost_grad/Reshape&quot;\\n  op: &quot;Reshape&quot;\\n  input: &quot;b_Fill&quot;\\n  input: &quot;b_cost_grad/Reshape/shape&quot;\\n  attr {\\n    key: &quot;T&quot;\\n    value {\\n      type: DT_FLOAT\\n    }\\n  }\\n  attr {\\n    key: &quot;Tshape&quot;\\n    value {\\n      type: DT_INT32\\n    }\\n  }\\n}\\nnode {\\n  name: &quot;b_cost_grad/Tile/multiples&quot;\\n  op: &quot;Const&quot;\\n  attr {\\n    key: &quot;dtype&quot;\\n    value {\\n      type: DT_INT32\\n    }\\n  }\\n  attr {\\n    key: &quot;value&quot;\\n    value {\\n      tensor {\\n        dtype: DT_INT32\\n        tensor_shape {\\n          dim {\\n            size: 1\\n          }\\n        }\\n        int_val: 25000000\\n      }\\n    }\\n  }\\n}\\nnode {\\n  name: &quot;b_cost_grad/Tile&quot;\\n  op: &quot;Tile&quot;\\n  input: &quot;b_cost_grad/Reshape&quot;\\n  input: &quot;b_cost_grad/Tile/multiples&quot;\\n  attr {\\n    key: &quot;T&quot;\\n    value {\\n      type: DT_FLOAT\\n    }\\n  }\\n  attr {\\n    key: &quot;Tmultiples&quot;\\n    value {\\n      type: DT_INT32\\n    }\\n  }\\n}\\nnode {\\n  name: &quot;b_a3_grad/TanhGrad&quot;\\n  op: &quot;TanhGrad&quot;\\n  input: &quot;a3&quot;\\n  input: &quot;b_cost_grad/Tile&quot;\\n  attr {\\n    key: &quot;T&quot;\\n    value {\\n      type: DT_FLOAT\\n    }\\n  }\\n}\\nnode {\\n  name: &quot;b_a2_grad/TanhGrad&quot;\\n  op: &quot;TanhGrad&quot;\\n  input: &quot;a2&quot;\\n  input: &quot;b_a3_grad/TanhGrad&quot;\\n  attr {\\n    key: &quot;T&quot;\\n    value {\\n      type: DT_FLOAT\\n    }\\n  }\\n}\\nnode {\\n  name: &quot;a2_1&quot;\\n  op: &quot;Tanh&quot;\\n  input: &quot;a1&quot;\\n  attr {\\n    key: &quot;T&quot;\\n    value {\\n      type: DT_FLOAT\\n    }\\n  }\\n}\\n';\n",
       "          }\n",
       "        </script>\n",
       "        <link rel=&quot;import&quot; href=&quot;https://tensorboard.appspot.com/tf-graph-basic.build.html&quot; onload=load()>\n",
       "        <div style=&quot;height:600px&quot;>\n",
       "          <tf-graph-basic id=&quot;graph0.11356853209468576&quot;></tf-graph-basic>\n",
       "        </div>\n",
       "    \"></iframe>\n",
       "    "
      ],
      "text/plain": [
       "<IPython.core.display.HTML object>"
      ]
     },
     "metadata": {},
     "output_type": "display_data"
    }
   ],
   "source": [
    "copied_sgv, info = ge.copy_with_input_replacements(ge.sgv(intermediate_ops), {})\n",
    "show_graph(ungroup_gradients=True)"
   ]
  },
  {
   "cell_type": "code",
   "execution_count": 14,
   "metadata": {
    "collapsed": false
   },
   "outputs": [
    {
     "data": {
      "text/html": [
       "\n",
       "        <iframe seamless style=\"width:1200px;height:800px;border:0\" srcdoc=\"\n",
       "        <script>\n",
       "          function load() {\n",
       "            document.getElementById(&quot;graph0.5132368925062993&quot;).pbtxt = 'node {\\n  name: &quot;a1&quot;\\n  op: &quot;Placeholder&quot;\\n  attr {\\n    key: &quot;dtype&quot;\\n    value {\\n      type: DT_FLOAT\\n    }\\n  }\\n  attr {\\n    key: &quot;shape&quot;\\n    value {\\n      shape {\\n        dim {\\n          size: 25000000\\n        }\\n      }\\n    }\\n  }\\n}\\nnode {\\n  name: &quot;a2&quot;\\n  op: &quot;Tanh&quot;\\n  input: &quot;a1&quot;\\n  attr {\\n    key: &quot;T&quot;\\n    value {\\n      type: DT_FLOAT\\n    }\\n  }\\n}\\nnode {\\n  name: &quot;a3&quot;\\n  op: &quot;Tanh&quot;\\n  input: &quot;a2&quot;\\n  attr {\\n    key: &quot;T&quot;\\n    value {\\n      type: DT_FLOAT\\n    }\\n  }\\n}\\nnode {\\n  name: &quot;Const&quot;\\n  op: &quot;Const&quot;\\n  attr {\\n    key: &quot;dtype&quot;\\n    value {\\n      type: DT_INT32\\n    }\\n  }\\n  attr {\\n    key: &quot;value&quot;\\n    value {\\n      tensor {\\n        dtype: DT_INT32\\n        tensor_shape {\\n          dim {\\n            size: 1\\n          }\\n        }\\n        int_val: 0\\n      }\\n    }\\n  }\\n}\\nnode {\\n  name: &quot;cost&quot;\\n  op: &quot;Sum&quot;\\n  input: &quot;a3&quot;\\n  input: &quot;Const&quot;\\n  attr {\\n    key: &quot;T&quot;\\n    value {\\n      type: DT_FLOAT\\n    }\\n  }\\n  attr {\\n    key: &quot;Tidx&quot;\\n    value {\\n      type: DT_INT32\\n    }\\n  }\\n  attr {\\n    key: &quot;keep_dims&quot;\\n    value {\\n      b: false\\n    }\\n  }\\n}\\nnode {\\n  name: &quot;gradients/Shape&quot;\\n  op: &quot;Const&quot;\\n  attr {\\n    key: &quot;dtype&quot;\\n    value {\\n      type: DT_INT32\\n    }\\n  }\\n  attr {\\n    key: &quot;value&quot;\\n    value {\\n      tensor {\\n        dtype: DT_INT32\\n        tensor_shape {\\n          dim {\\n          }\\n        }\\n      }\\n    }\\n  }\\n}\\nnode {\\n  name: &quot;gradients/Const&quot;\\n  op: &quot;Const&quot;\\n  attr {\\n    key: &quot;dtype&quot;\\n    value {\\n      type: DT_FLOAT\\n    }\\n  }\\n  attr {\\n    key: &quot;value&quot;\\n    value {\\n      tensor {\\n        dtype: DT_FLOAT\\n        tensor_shape {\\n        }\\n        float_val: 1.0\\n      }\\n    }\\n  }\\n}\\nnode {\\n  name: &quot;gradients/Fill&quot;\\n  op: &quot;Fill&quot;\\n  input: &quot;gradients/Shape&quot;\\n  input: &quot;gradients/Const&quot;\\n  attr {\\n    key: &quot;T&quot;\\n    value {\\n      type: DT_FLOAT\\n    }\\n  }\\n}\\nnode {\\n  name: &quot;gradients/cost_grad/Reshape/shape&quot;\\n  op: &quot;Const&quot;\\n  attr {\\n    key: &quot;dtype&quot;\\n    value {\\n      type: DT_INT32\\n    }\\n  }\\n  attr {\\n    key: &quot;value&quot;\\n    value {\\n      tensor {\\n        dtype: DT_INT32\\n        tensor_shape {\\n          dim {\\n            size: 1\\n          }\\n        }\\n        int_val: 1\\n      }\\n    }\\n  }\\n}\\nnode {\\n  name: &quot;gradients/cost_grad/Reshape&quot;\\n  op: &quot;Reshape&quot;\\n  input: &quot;gradients/Fill&quot;\\n  input: &quot;gradients/cost_grad/Reshape/shape&quot;\\n  attr {\\n    key: &quot;T&quot;\\n    value {\\n      type: DT_FLOAT\\n    }\\n  }\\n  attr {\\n    key: &quot;Tshape&quot;\\n    value {\\n      type: DT_INT32\\n    }\\n  }\\n}\\nnode {\\n  name: &quot;gradients/cost_grad/Tile/multiples&quot;\\n  op: &quot;Const&quot;\\n  attr {\\n    key: &quot;dtype&quot;\\n    value {\\n      type: DT_INT32\\n    }\\n  }\\n  attr {\\n    key: &quot;value&quot;\\n    value {\\n      tensor {\\n        dtype: DT_INT32\\n        tensor_shape {\\n          dim {\\n            size: 1\\n          }\\n        }\\n        int_val: 25000000\\n      }\\n    }\\n  }\\n}\\nnode {\\n  name: &quot;gradients/cost_grad/Tile&quot;\\n  op: &quot;Tile&quot;\\n  input: &quot;gradients/cost_grad/Reshape&quot;\\n  input: &quot;gradients/cost_grad/Tile/multiples&quot;\\n  attr {\\n    key: &quot;T&quot;\\n    value {\\n      type: DT_FLOAT\\n    }\\n  }\\n  attr {\\n    key: &quot;Tmultiples&quot;\\n    value {\\n      type: DT_INT32\\n    }\\n  }\\n}\\nnode {\\n  name: &quot;gradients/a3_grad/TanhGrad&quot;\\n  op: &quot;TanhGrad&quot;\\n  input: &quot;a3&quot;\\n  input: &quot;gradients/cost_grad/Tile&quot;\\n  attr {\\n    key: &quot;T&quot;\\n    value {\\n      type: DT_FLOAT\\n    }\\n  }\\n}\\nnode {\\n  name: &quot;gradients/a2_grad/TanhGrad&quot;\\n  op: &quot;TanhGrad&quot;\\n  input: &quot;a2_1&quot;\\n  input: &quot;gradients/a3_grad/TanhGrad&quot;\\n  attr {\\n    key: &quot;T&quot;\\n    value {\\n      type: DT_FLOAT\\n    }\\n  }\\n}\\nnode {\\n  name: &quot;a2_1&quot;\\n  op: &quot;Tanh&quot;\\n  input: &quot;a1&quot;\\n  attr {\\n    key: &quot;T&quot;\\n    value {\\n      type: DT_FLOAT\\n    }\\n  }\\n}\\n';\n",
       "          }\n",
       "        </script>\n",
       "        <link rel=&quot;import&quot; href=&quot;https://tensorboard.appspot.com/tf-graph-basic.build.html&quot; onload=load()>\n",
       "        <div style=&quot;height:600px&quot;>\n",
       "          <tf-graph-basic id=&quot;graph0.5132368925062993&quot;></tf-graph-basic>\n",
       "        </div>\n",
       "    \"></iframe>\n",
       "    "
      ],
      "text/plain": [
       "<IPython.core.display.HTML object>"
      ]
     },
     "metadata": {},
     "output_type": "display_data"
    }
   ],
   "source": [
    "bwd_ops = ge.filter_ops_from_regex(tf.get_default_graph(), \"gradients/\")\n",
    "intermediate_copied_ops = [info._transformed_ops[y] for y in intermediate_ops]\n",
    "intermediate_copied_ts = [op.outputs[0] for op in intermediate_copied_ops]\n",
    "intermediate_ts = [op.outputs[0] for op in intermediate_ops]\n",
    "# b left dangling\n",
    "ge.reroute_ts(intermediate_copied_ts, intermediate_ts, can_modify=bwd_ops)\n",
    "show_graph()"
   ]
  },
  {
   "cell_type": "code",
   "execution_count": 15,
   "metadata": {
    "collapsed": true
   },
   "outputs": [],
   "source": [
    "def run_op_after(a_op, b_op):\n",
    "    \"\"\"Force a to run after b\"\"\"\n",
    "    print(\"Adding %s to run after %s\"%(a_op.name, b_op.name))\n",
    "    ge.reroute.add_control_inputs(a_op, [b_op])"
   ]
  },
  {
   "cell_type": "code",
   "execution_count": 14,
   "metadata": {
    "collapsed": false
   },
   "outputs": [
    {
     "name": "stdout",
     "output_type": "stream",
     "text": [
      "Adding a2_1 to run after gradients/a3_grad/TanhGrad\n"
     ]
    }
   ],
   "source": [
    "# force copied intermediate ops to run after earliest backprop op\n",
    "cost_grad = ge.filter_ops_from_regex(tf.get_default_graph(), \"gradients/a3_grad/TanhGrad\")\n",
    "for cost_op in cost_grad:\n",
    "    for intermediate_op in intermediate_copied_ops:\n",
    "        run_op_after(intermediate_op, cost_op)"
   ]
  },
  {
   "cell_type": "code",
   "execution_count": 15,
   "metadata": {
    "collapsed": false
   },
   "outputs": [
    {
     "data": {
      "image/png": "[encoded data removed]",
      "text/plain": [
       "<matplotlib.figure.Figure at 0x7fb150684518>"
      ]
     },
     "metadata": {},
     "output_type": "display_data"
    }
   ],
   "source": [
    "sess = create_session()\n",
    "redirect.start();\n",
    "sess.run(grads[0].op, feed_dict={a1:np.zeros((n,))})\n",
    "stderr = redirect.stop()\n",
    "plot_memory_timeline(stderr)"
   ]
  },
  {
   "cell_type": "code",
   "execution_count": 16,
   "metadata": {
    "collapsed": false
   },
   "outputs": [
    {
     "name": "stdout",
     "output_type": "stream",
     "text": [
      " 50385696                                       a2   100000000   100000000\n",
      " 62436162                 gradients/cost_grad/Tile   100000000   200000000\n",
      " 68648386                                       a3   100000000   300000000\n",
      " 68695205                                       a2  -100000000   200000000\n",
      " 80062870               gradients/a3_grad/TanhGrad   100000000   300000000\n",
      " 80151949                                       a3  -100000000   200000000\n",
      " 80628014                 gradients/cost_grad/Tile  -100000000   100000000\n",
      " 91433279                                     a2_1   100000000   200000000\n",
      "104269881               gradients/a2_grad/TanhGrad   100000000   300000000\n",
      "104355949                                     a2_1  -100000000   200000000\n",
      "104935598               gradients/a3_grad/TanhGrad  -100000000   100000000\n",
      "105331258               gradients/a2_grad/TanhGrad  -100000000           0\n"
     ]
    }
   ],
   "source": [
    "print_memory_timeline(stderr)"
   ]
  },
  {
   "cell_type": "code",
   "execution_count": null,
   "metadata": {
    "collapsed": true
   },
   "outputs": [],
   "source": []
  }
 ],
 "metadata": {
  "anaconda-cloud": {},
  "kernelspec": {
   "display_name": "Python [default]",
   "language": "python",
   "name": "python3"
  },
  "language_info": {
   "codemirror_mode": {
    "name": "ipython",
    "version": 3
   },
   "file_extension": ".py",
   "mimetype": "text/x-python",
   "name": "python",
   "nbconvert_exporter": "python",
   "pygments_lexer": "ipython3",
   "version": "3.5.2"
  },
  "toc": {
   "colors": {
    "hover_highlight": "#DAA520",
    "running_highlight": "#FF0000",
    "selected_highlight": "#FFD700"
   },
   "moveMenuLeft": true,
   "nav_menu": {
    "height": "120px",
    "width": "252px"
   },
   "navigate_menu": true,
   "number_sections": false,
   "sideBar": true,
   "threshold": 4,
   "toc_cell": false,
   "toc_section_display": "block",
   "toc_window_display": true
  }
 },
 "nbformat": 4,
 "nbformat_minor": 2
}
