{
 "cells": [
  {
   "cell_type": "code",
   "execution_count": 1,
   "metadata": {
    "collapsed": false
   },
   "outputs": [
    {
     "name": "stdout",
     "output_type": "stream",
     "text": [
      "[name: \"/cpu:0\"\n",
      "device_type: \"CPU\"\n",
      "memory_limit: 268435456\n",
      "locality {\n",
      "}\n",
      "incarnation: 12472952657034743275\n",
      ", name: \"/gpu:0\"\n",
      "device_type: \"GPU\"\n",
      "memory_limit: 11992055808\n",
      "locality {\n",
      "  bus_id: 1\n",
      "}\n",
      "incarnation: 11654170773547241061\n",
      "physical_device_desc: \"device: 0, name: TITAN X (Pascal), pci bus id: 0000:07:00.0\"\n",
      "]\n",
      "0.12.head\n",
      "0.12.1-1934-g27fca7d-dirty\n"
     ]
    }
   ],
   "source": [
    "import os\n",
    "import numpy as np\n",
    "import time\n",
    "os.environ[\"CUDA_VISIBLE_DEVICES\"]=\"3\"\n",
    "import tensorflow as tf\n",
    "\n",
    "from matplotlib import pyplot as plt\n",
    "%matplotlib inline\n",
    "\n",
    "from tensorflow.contrib import graph_editor as ge\n",
    "from tensorflow.python.client import device_lib\n",
    "print(device_lib.list_local_devices())\n",
    "print(tf.__version__)\n",
    "print(tf.__git_version__)"
   ]
  },
  {
   "cell_type": "markdown",
   "metadata": {},
   "source": [
    "# Benchmark transfering data from CPU to GPU"
   ]
  },
  {
   "cell_type": "code",
   "execution_count": 16,
   "metadata": {
    "collapsed": false
   },
   "outputs": [
    {
     "name": "stdout",
     "output_type": "stream",
     "text": [
      "Transfer rate gpu->cpu = 3.38 GB/sec, 2.96 ms/call\n",
      "Transfer rate cpu->gpu = 3.31 GB/sec, 3.02 ms/call\n"
     ]
    }
   ],
   "source": [
    "size_mbs = 10\n",
    "n = 250*1000*size_mbs   # n of float32 entries\n",
    "with tf.device(\"/gpu:0\"):\n",
    "    gpu_var = tf.Variable(tf.random_uniform((n,)))\n",
    "with tf.device(\"/cpu:0\"):\n",
    "    cpu_var = tf.Variable(tf.random_uniform((n,)))\n",
    "\n",
    "gpu_to_cpu = cpu_var.assign(gpu_var)\n",
    "cpu_to_gpu = gpu_var.assign(cpu_var)\n",
    "\n",
    "# turn off graph-rewriting\n",
    "config = tf.ConfigProto(graph_options=tf.GraphOptions(optimizer_options=tf.OptimizerOptions(opt_level=tf.OptimizerOptions.L0)))\n",
    "sess = tf.Session(config=config)\n",
    "\n",
    "sess.run(tf.global_variables_initializer())\n",
    "def benchmark(op, iters):\n",
    "    start_time = time.time()\n",
    "    for i in range(iters):\n",
    "        sess.run(gpu_to_cpu.op)\n",
    "    end_time = time.time()\n",
    "    return float(end_time - start_time)\n",
    "\n",
    "iters = 1000\n",
    "gpu_to_cpu_time = benchmark(gpu_to_cpu, iters)\n",
    "cpu_to_gpu_time = benchmark(cpu_to_gpu, iters)\n",
    "data_volume_mbs = iters*size_mbs\n",
    "\n",
    "transfer_rate_mbs = data_volume_mbs/gpu_to_cpu_time\n",
    "print(\"Transfer rate gpu->cpu = %.2f GB/sec, %.2f ms/call\" %(transfer_rate_mbs/1000,1000*gpu_to_cpu_time/iters))\n",
    "\n",
    "transfer_rate_mbs = data_volume_mbs/cpu_to_gpu_time\n",
    "print(\"Transfer rate cpu->gpu = %.2f GB/sec, %.2f ms/call\" %(transfer_rate_mbs/1000,1000*cpu_to_gpu_time/iters))"
   ]
  },
  {
   "cell_type": "markdown",
   "metadata": {},
   "source": [
    "# Fair benchmark transfering data from CPU to GPU"
   ]
  },
  {
   "cell_type": "code",
   "execution_count": 19,
   "metadata": {
    "collapsed": false
   },
   "outputs": [
    {
     "name": "stdout",
     "output_type": "stream",
     "text": [
      "Transfer rate gpu->cpu = 3.27 GB/sec, 3.06 ms/call\n",
      "Transfer rate cpu->gpu = 3.35 GB/sec, 2.98 ms/call\n"
     ]
    }
   ],
   "source": [
    "size_mbs = 10\n",
    "n = 250*1000*size_mbs   # n of float32 entries\n",
    "with tf.device(\"/gpu:0\"):\n",
    "    gpu_var = tf.Variable(tf.random_uniform((n,)))\n",
    "    gpu_var0 = tf.Variable(tf.random_uniform((n,)))\n",
    "with tf.device(\"/cpu:0\"):\n",
    "    cpu_var = tf.Variable(tf.random_uniform((n,)))\n",
    "\n",
    "cpu_to_gpu = gpu_var.assign(cpu_var)\n",
    "gpu_to_gpu = gpu_var.assign(gpu_var0)\n",
    "\n",
    "# turn off graph-rewriting\n",
    "config = tf.ConfigProto(graph_options=tf.GraphOptions(optimizer_options=tf.OptimizerOptions(opt_level=tf.OptimizerOptions.L0)))\n",
    "sess = tf.Session(config=config)\n",
    "\n",
    "sess.run(tf.global_variables_initializer())\n",
    "def benchmark(op, iters):\n",
    "    start_time = time.time()\n",
    "    for i in range(iters):\n",
    "        sess.run(gpu_to_cpu.op)\n",
    "    end_time = time.time()\n",
    "    return float(end_time - start_time)\n",
    "\n",
    "iters = 1000\n",
    "gpu_to_cpu_time = benchmark(gpu_to_gpu, iters)\n",
    "cpu_to_gpu_time = benchmark(cpu_to_gpu, iters)\n",
    "data_volume_mbs = iters*size_mbs\n",
    "\n",
    "transfer_rate_mbs = data_volume_mbs/gpu_to_cpu_time\n",
    "print(\"Transfer rate gpu->cpu = %.2f GB/sec, %.2f ms/call\" %(transfer_rate_mbs/1000,1000*gpu_to_cpu_time/iters))\n",
    "\n",
    "transfer_rate_mbs = data_volume_mbs/cpu_to_gpu_time\n",
    "print(\"Transfer rate cpu->gpu = %.2f GB/sec, %.2f ms/call\" %(transfer_rate_mbs/1000,1000*cpu_to_gpu_time/iters))"
   ]
  },
  {
   "cell_type": "code",
   "execution_count": 20,
   "metadata": {
    "collapsed": false
   },
   "outputs": [
    {
     "data": {
      "text/plain": [
       "8"
      ]
     },
     "execution_count": 20,
     "metadata": {},
     "output_type": "execute_result"
    }
   ],
   "source": [
    "35-27"
   ]
  },
  {
   "cell_type": "markdown",
   "metadata": {
    "collapsed": true
   },
   "source": [
    "# Find cross-over point for mul"
   ]
  },
  {
   "cell_type": "code",
   "execution_count": 16,
   "metadata": {
    "collapsed": true
   },
   "outputs": [],
   "source": [
    "def benchmark_mul_gpu(size_mbs, iters=10):\n",
    "    n = 250*1000*size_mbs   # n of float32 entries\n",
    "\n",
    "    \"\"\"Find time needed to multiply two vectors on GPU.\"\"\"\n",
    "    with tf.device(\"/gpu:0\"):\n",
    "        var0 = tf.Variable(tf.random_uniform((n,)))\n",
    "        var1 = tf.Variable(tf.random_uniform((n,)))\n",
    "        op = tf.multiply(var0, var1)\n",
    "    config = tf.ConfigProto(graph_options=tf.GraphOptions(optimizer_options=tf.OptimizerOptions(opt_level=tf.OptimizerOptions.L0)))\n",
    "    sess = tf.Session(config=config)\n",
    "    sess.run(tf.global_variables_initializer())\n",
    "    for i in range(iters):\n",
    "        if i == 1: # skip 0 as the warm-up iteration\n",
    "            start_time = time.time()\n",
    "        sess.run(op.op)\n",
    "    end_time = time.time()\n",
    "    return (end_time - start_time)/(iters-1)"
   ]
  },
  {
   "cell_type": "code",
   "execution_count": 17,
   "metadata": {
    "collapsed": true
   },
   "outputs": [],
   "source": [
    "mbs = range(10, 100, 10)\n",
    "times_mul = [benchmark_mul_gpu(m) for m in mbs]"
   ]
  },
  {
   "cell_type": "code",
   "execution_count": 18,
   "metadata": {
    "collapsed": false
   },
   "outputs": [
    {
     "data": {
      "text/plain": [
       "[<matplotlib.lines.Line2D at 0x7fcec87604a8>]"
      ]
     },
     "execution_count": 18,
     "metadata": {},
     "output_type": "execute_result"
    },
    {
     "data": {
      "image/png": "[encoded data removed]",
      "text/plain": [
       "<matplotlib.figure.Figure at 0x7fceec6de978>"
      ]
     },
     "metadata": {},
     "output_type": "display_data"
    }
   ],
   "source": [
    "plt.plot(mbs, times_mul)"
   ]
  },
  {
   "cell_type": "code",
   "execution_count": 19,
   "metadata": {
    "collapsed": true
   },
   "outputs": [],
   "source": [
    "def benchmark_transfer_gpu(size_mbs, iters=10):\n",
    "    n = 250*1000*size_mbs   # n of float32 entries\n",
    "    with tf.device(\"/gpu:0\"):\n",
    "        gpu_var = tf.Variable(tf.random_uniform((n,)))\n",
    "        gpu_var0 = tf.Variable(tf.random_uniform((n,)))\n",
    "    with tf.device(\"/cpu:0\"):\n",
    "        cpu_var = tf.Variable(tf.random_uniform((n,)))\n",
    "\n",
    "    cpu_to_gpu = gpu_var.assign(cpu_var)\n",
    "    gpu_to_gpu = gpu_var.assign(gpu_var0)\n",
    "\n",
    "    # turn off graph-rewriting\n",
    "    config = tf.ConfigProto(graph_options=tf.GraphOptions(optimizer_options=tf.OptimizerOptions(opt_level=tf.OptimizerOptions.L0)))\n",
    "    sess = tf.Session(config=config)\n",
    "\n",
    "    sess.run(tf.global_variables_initializer())\n",
    "    def benchmark(op, iters):\n",
    "        for i in range(iters):\n",
    "            if i == 1: # skip 0 as the warm-up iteration\n",
    "                start_time = time.time()\n",
    "            sess.run(op)\n",
    "        end_time = time.time()\n",
    "        return float(end_time - start_time)/(iters-1)\n",
    "\n",
    "    gpu_to_gpu_time = benchmark(gpu_to_gpu.op, iters)\n",
    "    cpu_to_gpu_time = benchmark(cpu_to_gpu.op, iters)\n",
    "    overhead = cpu_to_gpu_time - gpu_to_gpu_time\n",
    "    return overhead"
   ]
  },
  {
   "cell_type": "code",
   "execution_count": 20,
   "metadata": {
    "collapsed": true
   },
   "outputs": [],
   "source": [
    "mbs = range(10, 100, 10)\n",
    "times_transfer = [benchmark_transfer_gpu(m) for m in mbs]"
   ]
  },
  {
   "cell_type": "code",
   "execution_count": 21,
   "metadata": {
    "collapsed": false
   },
   "outputs": [
    {
     "data": {
      "text/plain": [
       "[<matplotlib.lines.Line2D at 0x7fcec0702940>,\n",
       " <matplotlib.lines.Line2D at 0x7fcec0702be0>]"
      ]
     },
     "execution_count": 21,
     "metadata": {},
     "output_type": "execute_result"
    },
    {
     "data": {
      "image/png": "[encoded data removed]",
      "text/plain": [
       "<matplotlib.figure.Figure at 0x7fcec87292b0>"
      ]
     },
     "metadata": {},
     "output_type": "display_data"
    }
   ],
   "source": [
    "plt.plot(mbs, times_mul, mbs, times_transfer)"
   ]
  },
  {
   "cell_type": "markdown",
   "metadata": {},
   "source": [
    "# Find cross-over point for concat"
   ]
  },
  {
   "cell_type": "code",
   "execution_count": 22,
   "metadata": {
    "collapsed": true
   },
   "outputs": [],
   "source": [
    "def benchmark_concat_gpu(size_mbs, iters=10):\n",
    "    n = 250*1000*size_mbs   # n of float32 entries\n",
    "\n",
    "    \"\"\"Find time needed to multiply two vectors on GPU.\"\"\"\n",
    "    with tf.device(\"/gpu:0\"):\n",
    "        var0 = tf.Variable(tf.random_uniform((n//2,)))\n",
    "        var1 = tf.Variable(tf.random_uniform(((n+1)//2,)))\n",
    "        op = tf.concat_v2(values=[var0, var1], axis=0)\n",
    "    config = tf.ConfigProto(graph_options=tf.GraphOptions(optimizer_options=tf.OptimizerOptions(opt_level=tf.OptimizerOptions.L0)))\n",
    "    sess = tf.Session(config=config)\n",
    "    sess.run(tf.global_variables_initializer())\n",
    "    for i in range(iters):\n",
    "        if i == 1: # skip 0 as the warm-up iteration\n",
    "            start_time = time.time()\n",
    "        sess.run(op.op)\n",
    "    end_time = time.time()\n",
    "    return (end_time - start_time)/(iters-1)"
   ]
  },
  {
   "cell_type": "code",
   "execution_count": 23,
   "metadata": {
    "collapsed": true
   },
   "outputs": [],
   "source": [
    "mbs = range(10, 100, 10)\n",
    "times_concat = [benchmark_concat_gpu(m) for m in mbs]"
   ]
  },
  {
   "cell_type": "code",
   "execution_count": 24,
   "metadata": {
    "collapsed": false
   },
   "outputs": [
    {
     "data": {
      "text/plain": [
       "[<matplotlib.lines.Line2D at 0x7fcea87af588>,\n",
       " <matplotlib.lines.Line2D at 0x7fcea87af828>]"
      ]
     },
     "execution_count": 24,
     "metadata": {},
     "output_type": "execute_result"
    },
    {
     "data": {
      "image/png": "[encoded data removed]",
      "text/plain": [
       "<matplotlib.figure.Figure at 0x7fcec070f198>"
      ]
     },
     "metadata": {},
     "output_type": "display_data"
    }
   ],
   "source": [
    "plt.plot(mbs, times_concat, mbs, times_transfer)"
   ]
  },
  {
   "cell_type": "code",
   "execution_count": 25,
   "metadata": {
    "collapsed": false
   },
   "outputs": [
    {
     "data": {
      "text/plain": [
       "[0.0001904169718424479,\n",
       " 0.0003476672702365451,\n",
       " 0.0004597240024142795,\n",
       " 0.0004393524593777127,\n",
       " 0.0004779232872856988,\n",
       " 0.0006171597374810113,\n",
       " 0.0006229612562391493,\n",
       " 0.0006300873226589627,\n",
       " 0.0007197062174479166]"
      ]
     },
     "execution_count": 25,
     "metadata": {},
     "output_type": "execute_result"
    }
   ],
   "source": [
    "times_concat"
   ]
  },
  {
   "cell_type": "code",
   "execution_count": 26,
   "metadata": {
    "collapsed": false
   },
   "outputs": [
    {
     "data": {
      "text/plain": [
       "[0.00020395384894476997,\n",
       " 0.0003387928009033203,\n",
       " 0.0005774762895372179,\n",
       " 0.0005345874362521701,\n",
       " 0.0007323424021402994,\n",
       " 0.0007601843939887153,\n",
       " 0.0007571909162733289,\n",
       " 0.0008879502614339193,\n",
       " 0.0009788672129313152]"
      ]
     },
     "execution_count": 26,
     "metadata": {},
     "output_type": "execute_result"
    }
   ],
   "source": [
    "times_mul"
   ]
  },
  {
   "cell_type": "code",
   "execution_count": 31,
   "metadata": {
    "collapsed": false
   },
   "outputs": [
    {
     "data": {
      "text/plain": [
       "[0.0014644463857014973,\n",
       " 0.0027846495310465498,\n",
       " 0.0027686225043402775,\n",
       " 0.0034654935201009116,\n",
       " 0.0041493839687771275,\n",
       " 0.005014763938056098,\n",
       " 0.008468733893500434,\n",
       " 0.01075116793314616,\n",
       " 0.0073994530571831595]"
      ]
     },
     "execution_count": 31,
     "metadata": {},
     "output_type": "execute_result"
    }
   ],
   "source": [
    "times_transfer"
   ]
  },
  {
   "cell_type": "code",
   "execution_count": 30,
   "metadata": {
    "collapsed": false
   },
   "outputs": [
    {
     "data": {
      "text/plain": [
       "array([ 7.39945306,  0.97886721,  0.71970622])"
      ]
     },
     "execution_count": 30,
     "metadata": {},
     "output_type": "execute_result"
    }
   ],
   "source": [
    "1000*np.array([times_transfer[-1], times_mul[-1], times_concat[-1]])"
   ]
  },
  {
   "cell_type": "code",
   "execution_count": null,
   "metadata": {
    "collapsed": true
   },
   "outputs": [],
   "source": [
    "1000*np.array([times_transfer[-1], times_mul[-1], times_concat[-1]])"
   ]
  },
  {
   "cell_type": "code",
   "execution_count": 40,
   "metadata": {
    "collapsed": false
   },
   "outputs": [
    {
     "data": {
      "text/plain": [
       "<matplotlib.legend.Legend at 0x7fce847ddc18>"
      ]
     },
     "execution_count": 40,
     "metadata": {},
     "output_type": "execute_result"
    },
    {
     "data": {
      "image/png": "[encoded data removed]",
      "text/plain": [
       "<matplotlib.figure.Figure at 0x7fce84757f28>"
      ]
     },
     "metadata": {},
     "output_type": "display_data"
    }
   ],
   "source": [
    "plt.plot(mbs, times_concat, label=\"concat\")\n",
    "plt.plot(mbs, times_mul, label=\"mul\")\n",
    "plt.plot(mbs, times_transfer, label=\"transfer\")\n",
    "plt.legend()"
   ]
  },
  {
   "cell_type": "code",
   "execution_count": null,
   "metadata": {
    "collapsed": true
   },
   "outputs": [],
   "source": []
  }
 ],
 "metadata": {
  "anaconda-cloud": {},
  "kernelspec": {
   "display_name": "Python [default]",
   "language": "python",
   "name": "python3"
  },
  "language_info": {
   "codemirror_mode": {
    "name": "ipython",
    "version": 3
   },
   "file_extension": ".py",
   "mimetype": "text/x-python",
   "name": "python",
   "nbconvert_exporter": "python",
   "pygments_lexer": "ipython3",
   "version": "3.5.2"
  },
  "toc": {
   "colors": {
    "hover_highlight": "#DAA520",
    "running_highlight": "#FF0000",
    "selected_highlight": "#FFD700"
   },
   "moveMenuLeft": true,
   "nav_menu": {
    "height": "30px",
    "width": "252px"
   },
   "navigate_menu": true,
   "number_sections": false,
   "sideBar": true,
   "threshold": 4,
   "toc_cell": false,
   "toc_section_display": "block",
   "toc_window_display": false
  }
 },
 "nbformat": 4,
 "nbformat_minor": 2
}
